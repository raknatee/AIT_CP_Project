{
 "cells": [
  {
   "cell_type": "code",
   "execution_count": 1,
   "metadata": {},
   "outputs": [
    {
     "name": "stdout",
     "output_type": "stream",
     "text": [
      "0\n"
     ]
    }
   ],
   "source": [
    "\n",
    "from my_modules.log import log,Limit,CounterBreak,CounterMod\n",
    "\n",
    "\n",
    "from my_modules.load_data import MyDataset\n",
    "import my_modules.model.lstm as model_modules\n",
    "from my_modules.model.lstm import LSTM_0,move_to_gpu,del_gpu,LSTM_1,LSTM_2,LSTM_3,LSTM_4\n",
    "\n",
    "from my_modules.model.lstmcnn_part3 import LSTMCNN_10,LSTMCNN_10_2\n",
    "from my_modules.model.lstm2cnn_part1 import LSTM2CNN_1,LSTM2CNN_2,LSTM2CNN_3,LSTM2CNN_4\n",
    "from my_modules.model.lstm2cnn_final import LSTM2CNN,LSTM2CNN_2\n",
    "\n",
    "\n",
    "\n",
    "import torch\n",
    "from torch import nn\n",
    "from torch.utils.data import DataLoader\n",
    "\n",
    "import os\n",
    "# os.environ['CUDA_LAUNCH_BLOCKING'] = '1'\n",
    "\n",
    "from tqdm import tqdm\n",
    "\n",
    "print(model_modules.get_used_memory())\n",
    "\n",
    "from playsound import playsound\n",
    "sound_path = r'C:\\Users\\rakna\\Desktop\\AIT_working\\AIT_CP_Project\\code\\notice_sound'\n",
    "\n",
    "\n"
   ]
  },
  {
   "cell_type": "code",
   "execution_count": 2,
   "metadata": {},
   "outputs": [],
   "source": [
    "train_index_movie = [i for i in range(38)]\n",
    "test_index_movie = [i for i in range(len(train_index_movie),40)]\n",
    "\n",
    "data_path = r'C:\\Users\\rakna\\Desktop\\AIT_working\\AIT_CP_Project\\this_folder_git_ignore\\ori_datasets\\s01.dat'\n",
    "# data_path = r'C:\\Users\\rakna\\Desktop\\AIT_working\\AIT_CP_Project\\this_folder_git_ignore\\ori_datasets\\s02.dat'\n",
    "# data_path = r'C:\\Users\\rakna\\Desktop\\AIT_working\\AIT_CP_Project\\this_folder_git_ignore\\ori_datasets\\s12.dat'\n",
    "# data_path = r'C:\\Users\\rakna\\Desktop\\AIT_working\\AIT_CP_Project\\this_folder_git_ignore\\ori_datasets\\s20.dat'\n",
    "# window_size = 145*5\n",
    "window_size = 145*10\n",
    "step_window = 10\n",
    "\n",
    "data_train = MyDataset(data_path,window_size,step_window,train_index_movie,do_noise=True)\n",
    "data_test = MyDataset(data_path,window_size,step_window,test_index_movie)\n",
    "\n",
    "\n",
    "\n"
   ]
  },
  {
   "cell_type": "code",
   "execution_count": 3,
   "metadata": {},
   "outputs": [
    {
     "name": "stdout",
     "output_type": "stream",
     "text": [
      "GeForce GTX 1070 Ti\n"
     ]
    }
   ],
   "source": [
    "model_modules.do_gpu = torch.cuda.is_available()\n",
    "# model_modules.do_gpu = False\n",
    "\n",
    "if(model_modules.do_gpu):\n",
    "    print(torch.cuda.get_device_name())\n",
    "else:\n",
    "    print('using CPU')\n",
    "\n",
    "    \n",
    "batch_size_ = 16\n",
    "# batch_size_ = 64\n",
    "data_loader = DataLoader(data_train,batch_size = batch_size_,shuffle=True,pin_memory=model_modules.do_gpu)\n",
    "data_loader_test  = DataLoader(data_test,batch_size = batch_size_,shuffle=True,pin_memory=model_modules.do_gpu)"
   ]
  },
  {
   "cell_type": "code",
   "execution_count": 4,
   "metadata": {},
   "outputs": [
    {
     "name": "stdout",
     "output_type": "stream",
     "text": [
      "continue train from epoch -1 best_loss = None\n"
     ]
    }
   ],
   "source": [
    "# input_size = num EEG channels\n",
    "\n",
    "\n",
    "input_size = 40\n",
    "torch.manual_seed(55555)\n",
    "\n",
    "\n",
    "save_folder = r'w\\v029'\n",
    "\n",
    "model = LSTM2CNN_2(input_size=input_size,number_layers=1,hidden_size=20)\n",
    "\n",
    "'''\n",
    "    load w\n",
    "    \n",
    "'''\n",
    "load_w_path = r'\\w\\v029\\model_015_4dot18'\n",
    "# load_w_path = None\n",
    "\n",
    "\n",
    "\n",
    "if(load_w_path is not None):\n",
    "    model.load_state_dict(torch.load(r'C:\\Users\\rakna\\Desktop\\AIT_working\\AIT_CP_Project\\this_folder_git_ignore'+load_w_path))\n",
    "\n",
    "best_loss = None\n",
    "epoch = -1\n",
    "if(load_w_path is not None):\n",
    "    name = load_w_path.split('\\\\')[-1]\n",
    "    epoch = int(name.split('_')[-2])\n",
    "    best_loss = float(name.split('_')[-1].replace('dot','.'))\n",
    "\n",
    "print(f\"continue train from epoch {epoch} best_loss = {best_loss}\")\n",
    "\n",
    "\n",
    "'''\n",
    "    tranfer learning\n",
    "'''\n",
    "\n",
    "\n",
    "# load_w_path = r'\\w\\v028\\model_036_0dot90'\n",
    "# load_w_path = r'\\w_all\\v001\\model_009_7dot24'\n",
    "# model.load_state_dict(torch.load(r'C:\\Users\\rakna\\Desktop\\AIT_working\\AIT_CP_Project\\this_folder_git_ignore'+load_w_path))\n",
    "\n",
    "# epoch => what's epoch now\n",
    "\n",
    "\n",
    "model = move_to_gpu(model)\n",
    "# print(model.eval())\n",
    "loss_func = nn.MSELoss()\n",
    "\n",
    "\n",
    "\n",
    "# lr_rate = 5e-8\n",
    "# lr_rate = 5e-7\n",
    "# lr_rate = 5e-6\n",
    "lr_rate = 5e-5\n",
    "# lr_rate = 5e-4\n",
    "# lr_rate = 5e-3\n",
    "# lr_rate = 1e-3\n",
    "\n",
    "\n",
    "\n",
    "l2_rate = 1e-4\n",
    "# l2_rate = 8e-3\n",
    "# l2_rate = 1e-3\n",
    "\n",
    "optimizer = torch.optim.Adam(model.parameters_with_l2(),lr=lr_rate,weight_decay=l2_rate)\n",
    "optimizer_without_l2 = torch.optim.Adam(model.parameters_without_l2(),lr=lr_rate)\n"
   ]
  },
  {
   "cell_type": "code",
   "execution_count": null,
   "metadata": {
    "scrolled": false
   },
   "outputs": [
    {
     "name": "stderr",
     "output_type": "stream",
     "text": [
      "\r",
      "  0%|                                                                                         | 0/1573 [00:00<?, ?it/s]"
     ]
    },
    {
     "name": "stdout",
     "output_type": "stream",
     "text": [
      "continue train from epoch -1 best_loss = None\n"
     ]
    },
    {
     "name": "stderr",
     "output_type": "stream",
     "text": [
      "100%|██████████████████████████████████████████████████████████████████████████████| 1573/1573 [04:57<00:00,  5.30it/s]\n",
      "  1%|█                                                                                  | 1/83 [00:00<00:08,  9.62it/s]"
     ]
    },
    {
     "name": "stdout",
     "output_type": "stream",
     "text": [
      "==============================loss train at epoch 0==============================\n",
      "6.004462003556316\n"
     ]
    },
    {
     "name": "stderr",
     "output_type": "stream",
     "text": [
      "100%|██████████████████████████████████████████████████████████████████████████████████| 83/83 [00:08<00:00,  9.62it/s]\n"
     ]
    },
    {
     "name": "stdout",
     "output_type": "stream",
     "text": [
      "==============================loss_test at epoch 0==============================\n",
      "4.923692861235286\n",
      "==============================loss test at epoch 0==============================\n",
      "4.923692861235286\n",
      "============================================================save w============================================================\n"
     ]
    },
    {
     "name": "stderr",
     "output_type": "stream",
     "text": [
      "100%|██████████████████████████████████████████████████████████████████████████████| 1573/1573 [04:53<00:00,  5.35it/s]\n",
      "  1%|█                                                                                  | 1/83 [00:00<00:08,  9.52it/s]"
     ]
    },
    {
     "name": "stdout",
     "output_type": "stream",
     "text": [
      "==============================loss train at epoch 1==============================\n",
      "5.8233855446659675\n"
     ]
    },
    {
     "name": "stderr",
     "output_type": "stream",
     "text": [
      "100%|██████████████████████████████████████████████████████████████████████████████████| 83/83 [00:08<00:00,  9.50it/s]\n"
     ]
    },
    {
     "name": "stdout",
     "output_type": "stream",
     "text": [
      "==============================loss_test at epoch 1==============================\n",
      "4.849688412195229\n",
      "==============================loss test at epoch 1==============================\n",
      "4.849688412195229\n",
      "============================================================save w============================================================\n"
     ]
    },
    {
     "name": "stderr",
     "output_type": "stream",
     "text": [
      "100%|██████████████████████████████████████████████████████████████████████████████| 1573/1573 [04:54<00:00,  5.34it/s]\n",
      "  1%|█                                                                                  | 1/83 [00:00<00:08,  9.61it/s]"
     ]
    },
    {
     "name": "stdout",
     "output_type": "stream",
     "text": [
      "==============================loss train at epoch 2==============================\n",
      "5.731538908237571\n"
     ]
    },
    {
     "name": "stderr",
     "output_type": "stream",
     "text": [
      "100%|██████████████████████████████████████████████████████████████████████████████████| 83/83 [00:08<00:00,  9.65it/s]\n"
     ]
    },
    {
     "name": "stdout",
     "output_type": "stream",
     "text": [
      "==============================loss_test at epoch 2==============================\n",
      "4.532878657421434\n",
      "==============================loss test at epoch 2==============================\n",
      "4.532878657421434\n",
      "============================================================save w============================================================\n"
     ]
    },
    {
     "name": "stderr",
     "output_type": "stream",
     "text": [
      "100%|██████████████████████████████████████████████████████████████████████████████| 1573/1573 [04:52<00:00,  5.38it/s]\n",
      "  0%|                                                                                           | 0/83 [00:00<?, ?it/s]"
     ]
    },
    {
     "name": "stdout",
     "output_type": "stream",
     "text": [
      "==============================loss train at epoch 3==============================\n",
      "5.698372816630252\n"
     ]
    },
    {
     "name": "stderr",
     "output_type": "stream",
     "text": [
      "100%|██████████████████████████████████████████████████████████████████████████████████| 83/83 [00:08<00:00,  9.59it/s]\n"
     ]
    },
    {
     "name": "stdout",
     "output_type": "stream",
     "text": [
      "==============================loss_test at epoch 3==============================\n",
      "4.822356585996697\n"
     ]
    },
    {
     "name": "stderr",
     "output_type": "stream",
     "text": [
      "100%|██████████████████████████████████████████████████████████████████████████████| 1573/1573 [04:52<00:00,  5.38it/s]\n",
      "  1%|█                                                                                  | 1/83 [00:00<00:08,  9.90it/s]"
     ]
    },
    {
     "name": "stdout",
     "output_type": "stream",
     "text": [
      "==============================loss train at epoch 4==============================\n",
      "5.630048929546112\n"
     ]
    },
    {
     "name": "stderr",
     "output_type": "stream",
     "text": [
      "100%|██████████████████████████████████████████████████████████████████████████████████| 83/83 [00:08<00:00,  9.81it/s]\n"
     ]
    },
    {
     "name": "stdout",
     "output_type": "stream",
     "text": [
      "==============================loss_test at epoch 4==============================\n",
      "4.501741705170597\n",
      "==============================(from CounterMod)loss test at epoch 4==============================\n",
      "4.501741705170597\n",
      "ram gpu 394741760\n",
      "==============================loss test at epoch 4==============================\n",
      "4.501741705170597\n",
      "============================================================save w============================================================\n"
     ]
    },
    {
     "name": "stderr",
     "output_type": "stream",
     "text": [
      "100%|██████████████████████████████████████████████████████████████████████████████| 1573/1573 [04:51<00:00,  5.39it/s]\n",
      "  0%|                                                                                           | 0/83 [00:00<?, ?it/s]"
     ]
    },
    {
     "name": "stdout",
     "output_type": "stream",
     "text": [
      "==============================loss train at epoch 5==============================\n",
      "5.679919172985419\n"
     ]
    },
    {
     "name": "stderr",
     "output_type": "stream",
     "text": [
      "100%|██████████████████████████████████████████████████████████████████████████████████| 83/83 [00:08<00:00,  9.74it/s]\n"
     ]
    },
    {
     "name": "stdout",
     "output_type": "stream",
     "text": [
      "==============================loss_test at epoch 5==============================\n",
      "4.456352765301624\n",
      "==============================loss test at epoch 5==============================\n",
      "4.456352765301624\n",
      "============================================================save w============================================================\n"
     ]
    },
    {
     "name": "stderr",
     "output_type": "stream",
     "text": [
      "100%|██████████████████████████████████████████████████████████████████████████████| 1573/1573 [04:54<00:00,  5.34it/s]\n",
      "  1%|█                                                                                  | 1/83 [00:00<00:10,  8.00it/s]"
     ]
    },
    {
     "name": "stdout",
     "output_type": "stream",
     "text": [
      "==============================loss train at epoch 6==============================\n",
      "5.505840292950004\n"
     ]
    },
    {
     "name": "stderr",
     "output_type": "stream",
     "text": [
      "100%|██████████████████████████████████████████████████████████████████████████████████| 83/83 [00:08<00:00,  9.48it/s]\n"
     ]
    },
    {
     "name": "stdout",
     "output_type": "stream",
     "text": [
      "==============================loss_test at epoch 6==============================\n",
      "4.532680902136377\n"
     ]
    },
    {
     "name": "stderr",
     "output_type": "stream",
     "text": [
      "100%|██████████████████████████████████████████████████████████████████████████████| 1573/1573 [04:51<00:00,  5.39it/s]\n",
      "  1%|█                                                                                  | 1/83 [00:00<00:09,  8.62it/s]"
     ]
    },
    {
     "name": "stdout",
     "output_type": "stream",
     "text": [
      "==============================loss train at epoch 7==============================\n",
      "5.463015803999759\n"
     ]
    },
    {
     "name": "stderr",
     "output_type": "stream",
     "text": [
      "100%|██████████████████████████████████████████████████████████████████████████████████| 83/83 [00:08<00:00,  9.64it/s]\n"
     ]
    },
    {
     "name": "stdout",
     "output_type": "stream",
     "text": [
      "==============================loss_test at epoch 7==============================\n",
      "4.535864149231508\n"
     ]
    },
    {
     "name": "stderr",
     "output_type": "stream",
     "text": [
      "100%|██████████████████████████████████████████████████████████████████████████████| 1573/1573 [04:53<00:00,  5.37it/s]\n",
      "  1%|█                                                                                  | 1/83 [00:00<00:08,  9.17it/s]"
     ]
    },
    {
     "name": "stdout",
     "output_type": "stream",
     "text": [
      "==============================loss train at epoch 8==============================\n",
      "5.454854472306452\n"
     ]
    },
    {
     "name": "stderr",
     "output_type": "stream",
     "text": [
      "100%|██████████████████████████████████████████████████████████████████████████████████| 83/83 [00:08<00:00,  9.26it/s]\n"
     ]
    },
    {
     "name": "stdout",
     "output_type": "stream",
     "text": [
      "==============================loss_test at epoch 8==============================\n",
      "4.517933064196483\n"
     ]
    },
    {
     "name": "stderr",
     "output_type": "stream",
     "text": [
      "100%|██████████████████████████████████████████████████████████████████████████████| 1573/1573 [04:52<00:00,  5.38it/s]\n",
      "  1%|█                                                                                  | 1/83 [00:00<00:08,  9.71it/s]"
     ]
    },
    {
     "name": "stdout",
     "output_type": "stream",
     "text": [
      "==============================loss train at epoch 9==============================\n",
      "5.427125457131931\n"
     ]
    },
    {
     "name": "stderr",
     "output_type": "stream",
     "text": [
      "100%|██████████████████████████████████████████████████████████████████████████████████| 83/83 [00:08<00:00,  9.52it/s]\n"
     ]
    },
    {
     "name": "stdout",
     "output_type": "stream",
     "text": [
      "==============================loss_test at epoch 9==============================\n",
      "4.355896067906575\n",
      "==============================(from CounterMod)loss test at epoch 9==============================\n",
      "4.355896067906575\n",
      "ram gpu 394741760\n",
      "==============================loss test at epoch 9==============================\n",
      "4.355896067906575\n",
      "============================================================save w============================================================\n"
     ]
    },
    {
     "name": "stderr",
     "output_type": "stream",
     "text": [
      "100%|██████████████████████████████████████████████████████████████████████████████| 1573/1573 [04:51<00:00,  5.39it/s]\n",
      "  1%|█                                                                                  | 1/83 [00:00<00:09,  8.85it/s]"
     ]
    },
    {
     "name": "stdout",
     "output_type": "stream",
     "text": [
      "==============================loss train at epoch 10==============================\n",
      "5.306743279279453\n"
     ]
    },
    {
     "name": "stderr",
     "output_type": "stream",
     "text": [
      "100%|██████████████████████████████████████████████████████████████████████████████████| 83/83 [00:08<00:00,  9.60it/s]\n"
     ]
    },
    {
     "name": "stdout",
     "output_type": "stream",
     "text": [
      "==============================loss_test at epoch 10==============================\n",
      "4.41009273586503\n"
     ]
    },
    {
     "name": "stderr",
     "output_type": "stream",
     "text": [
      "100%|██████████████████████████████████████████████████████████████████████████████| 1573/1573 [04:52<00:00,  5.37it/s]\n",
      "  0%|                                                                                           | 0/83 [00:00<?, ?it/s]"
     ]
    },
    {
     "name": "stdout",
     "output_type": "stream",
     "text": [
      "==============================loss train at epoch 11==============================\n",
      "5.3995185840379945\n"
     ]
    },
    {
     "name": "stderr",
     "output_type": "stream",
     "text": [
      "100%|██████████████████████████████████████████████████████████████████████████████████| 83/83 [00:08<00:00,  9.67it/s]\n"
     ]
    },
    {
     "name": "stdout",
     "output_type": "stream",
     "text": [
      "==============================loss_test at epoch 11==============================\n",
      "4.833577121596739\n"
     ]
    },
    {
     "name": "stderr",
     "output_type": "stream",
     "text": [
      "100%|██████████████████████████████████████████████████████████████████████████████| 1573/1573 [04:53<00:00,  5.36it/s]\n",
      "  1%|█                                                                                  | 1/83 [00:00<00:08,  9.17it/s]"
     ]
    },
    {
     "name": "stdout",
     "output_type": "stream",
     "text": [
      "==============================loss train at epoch 12==============================\n",
      "5.295230917921509\n"
     ]
    },
    {
     "name": "stderr",
     "output_type": "stream",
     "text": [
      "100%|██████████████████████████████████████████████████████████████████████████████████| 83/83 [00:08<00:00,  9.71it/s]\n"
     ]
    },
    {
     "name": "stdout",
     "output_type": "stream",
     "text": [
      "==============================loss_test at epoch 12==============================\n",
      "4.344601792025279\n",
      "==============================loss test at epoch 12==============================\n",
      "4.344601792025279\n",
      "============================================================save w============================================================\n"
     ]
    },
    {
     "name": "stderr",
     "output_type": "stream",
     "text": [
      "100%|██████████████████████████████████████████████████████████████████████████████| 1573/1573 [04:57<00:00,  5.29it/s]\n",
      "  0%|                                                                                           | 0/83 [00:00<?, ?it/s]"
     ]
    },
    {
     "name": "stdout",
     "output_type": "stream",
     "text": [
      "==============================loss train at epoch 13==============================\n",
      "5.263685623248974\n"
     ]
    },
    {
     "name": "stderr",
     "output_type": "stream",
     "text": [
      "100%|██████████████████████████████████████████████████████████████████████████████████| 83/83 [00:08<00:00,  9.24it/s]\n"
     ]
    },
    {
     "name": "stdout",
     "output_type": "stream",
     "text": [
      "==============================loss_test at epoch 13==============================\n",
      "4.363396883010864\n"
     ]
    },
    {
     "name": "stderr",
     "output_type": "stream",
     "text": [
      "100%|██████████████████████████████████████████████████████████████████████████████| 1573/1573 [04:53<00:00,  5.37it/s]\n",
      "  1%|█                                                                                  | 1/83 [00:00<00:08,  9.90it/s]"
     ]
    },
    {
     "name": "stdout",
     "output_type": "stream",
     "text": [
      "==============================loss train at epoch 14==============================\n",
      "5.208694875884496\n"
     ]
    },
    {
     "name": "stderr",
     "output_type": "stream",
     "text": [
      "100%|██████████████████████████████████████████████████████████████████████████████████| 83/83 [00:08<00:00,  9.65it/s]\n"
     ]
    },
    {
     "name": "stdout",
     "output_type": "stream",
     "text": [
      "==============================loss_test at epoch 14==============================\n",
      "4.393485954008907\n",
      "==============================(from CounterMod)loss test at epoch 14==============================\n",
      "4.393485954008907\n",
      "ram gpu 394741760\n"
     ]
    },
    {
     "name": "stderr",
     "output_type": "stream",
     "text": [
      "100%|██████████████████████████████████████████████████████████████████████████████| 1573/1573 [04:52<00:00,  5.38it/s]\n",
      "  2%|██                                                                                 | 2/83 [00:00<00:07, 10.47it/s]"
     ]
    },
    {
     "name": "stdout",
     "output_type": "stream",
     "text": [
      "==============================loss train at epoch 15==============================\n",
      "5.173644165362209\n"
     ]
    },
    {
     "name": "stderr",
     "output_type": "stream",
     "text": [
      "100%|██████████████████████████████████████████████████████████████████████████████████| 83/83 [00:08<00:00,  9.78it/s]\n"
     ]
    },
    {
     "name": "stdout",
     "output_type": "stream",
     "text": [
      "==============================loss_test at epoch 15==============================\n",
      "4.184393526559853\n",
      "==============================loss test at epoch 15==============================\n",
      "4.184393526559853\n",
      "============================================================save w============================================================\n"
     ]
    },
    {
     "name": "stderr",
     "output_type": "stream",
     "text": [
      " 96%|██████████████████████████████████████████████████████████████████████████▉   | 1511/1573 [04:40<00:11,  5.49it/s]"
     ]
    }
   ],
   "source": [
    "print(f\"continue train from epoch {epoch} best_loss = {best_loss}\")\n",
    "\n",
    "pl_1 = Limit(1)\n",
    "pl_1_2 = Limit(1)\n",
    "\n",
    "do_train = True\n",
    "is_limit = False\n",
    "\n",
    "def train():\n",
    "    pl = Limit(3)\n",
    "    loss_train_batch = 0\n",
    "    c=0\n",
    "    for train_data,label in tqdm(data_loader):\n",
    "\n",
    "        if(is_limit):\n",
    "            if(CounterBreak.set_count(2).count()):\n",
    "                pl_1('limit train_data')\n",
    "                break\n",
    "\n",
    "        train_data = move_to_gpu(train_data)\n",
    "        label = move_to_gpu(label)\n",
    "\n",
    "\n",
    "        optimizer.zero_grad()\n",
    "        optimizer_without_l2.zero_grad()\n",
    "        bz = train_data.shape[0]\n",
    "        model.reset_hidden(bz)\n",
    "\n",
    "\n",
    "\n",
    "        y_hat = (model(train_data))\n",
    "\n",
    "        loss = loss_func(y_hat,label)\n",
    "        loss_train_batch+=float(loss)\n",
    "        c+=1\n",
    "        loss.backward()\n",
    "        optimizer.step()\n",
    "        optimizer_without_l2.step()\n",
    "\n",
    "        del_gpu(train_data,label)\n",
    "\n",
    "    log(loss_train_batch/c,title=f\"loss train at epoch {epoch}\")\n",
    "def model_eval():\n",
    "    '''\n",
    "                find loss test\n",
    "    '''\n",
    "    global best_loss\n",
    "    loss_test=0\n",
    "    c = 0\n",
    "    with torch.no_grad():\n",
    "        for test_data,y_test in tqdm(data_loader_test):\n",
    "\n",
    "\n",
    "            if(is_limit):\n",
    "                if(CounterBreak.set_count(2).count()):\n",
    "                    pl_1_2('limit test_data')\n",
    "                    break\n",
    "\n",
    "            test_data = move_to_gpu(test_data)    \n",
    "            y_test = move_to_gpu(y_test)\n",
    "\n",
    "            bz = test_data.shape[0]\n",
    "\n",
    "            model.reset_hidden(bz)\n",
    "            y_hat_test = model(test_data)\n",
    "\n",
    "            batch_loss_test = loss_func(y_hat_test,y_test)\n",
    "\n",
    "            loss_test+= float(batch_loss_test)\n",
    "            c+=1\n",
    "\n",
    "            del_gpu(test_data,y_test)\n",
    "\n",
    "\n",
    "    loss_test = loss_test/c\n",
    "    log(loss_test,title=f\"loss_test at epoch {epoch}\")\n",
    "\n",
    "\n",
    "    rp = r\"C:\\Users\\rakna\\Desktop\\AIT_working\\AIT_CP_Project\\this_folder_git_ignore\"\n",
    "    if(CounterMod.init().set_mod(5).count()):\n",
    "        log(loss_test,title=f\"(from CounterMod)loss test at epoch {epoch}\")\n",
    "        log('ram gpu',torch.cuda.memory_allocated())\n",
    "        torch.save(model.state_dict(), os.path.join(rp,save_folder,f'./autosave_model_{epoch:03}_{\"{:.2f}\".format(loss_test).replace(\".\",\"dot\") }' ) )\n",
    "\n",
    "    if(best_loss is None or loss_test<best_loss):\n",
    "        best_loss=loss_test\n",
    "\n",
    "        torch.save(model.state_dict(), os.path.join(rp,save_folder,f'./model_{epoch:03}_{\"{:.2f}\".format(loss_test).replace(\".\",\"dot\") }' ) )\n",
    "        log(loss_test,title=f\"loss test at epoch {epoch}\")\n",
    "        log(title='save w',n=60)\n",
    "        playsound(os.path.join(sound_path,'got_it.mp3'))\n",
    "    else:\n",
    "        playsound(os.path.join(sound_path,'trying_best.mp3'))\n",
    "\n",
    "if(do_train):\n",
    "    while True:\n",
    "        try:\n",
    "            epoch+=1    \n",
    "            train()\n",
    "            model_eval()\n",
    "\n",
    "        except RuntimeError as e:\n",
    "            playsound(os.path.join(sound_path,'help.mp3'))\n",
    "            model_eval()\n",
    "            continue\n",
    "#             raise e\n",
    "# except TypeError:\n",
    "#     pass\n",
    "  \n",
    "\n",
    "# except KeyboardInterrupt:\n",
    "#     for sound in music_sheet2:\n",
    "#         winsound.Beep(sound[0], sound[1]) \n",
    "        \n",
    "\n",
    "        \n",
    "\n",
    "    \n",
    "\n",
    "    "
   ]
  }
 ],
 "metadata": {
  "kernelspec": {
   "display_name": "Python 3",
   "language": "python",
   "name": "python3"
  },
  "language_info": {
   "codemirror_mode": {
    "name": "ipython",
    "version": 3
   },
   "file_extension": ".py",
   "mimetype": "text/x-python",
   "name": "python",
   "nbconvert_exporter": "python",
   "pygments_lexer": "ipython3",
   "version": "3.8.5"
  }
 },
 "nbformat": 4,
 "nbformat_minor": 4
}
