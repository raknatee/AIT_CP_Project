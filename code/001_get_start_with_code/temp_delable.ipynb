{
 "cells": [
  {
   "cell_type": "code",
   "execution_count": 1,
   "metadata": {},
   "outputs": [
    {
     "name": "stdout",
     "output_type": "stream",
     "text": [
      "tensor([[-0.0337,  0.1000,  0.2665,  ..., -0.4620,  0.2609, -0.7445],\n",
      "        [-0.6385,  0.7285,  0.0288,  ..., -0.6995, -0.0871, -0.3358],\n",
      "        [-0.1108, -0.4899, -0.2731,  ..., -0.1239, -0.3305,  0.1216],\n",
      "        ...,\n",
      "        [-0.4496, -0.1731, -0.7828,  ...,  0.2807, -0.4437,  0.1992],\n",
      "        [-0.0583,  0.0878,  0.7865,  ..., -0.8905,  0.0588, -1.0093],\n",
      "        [ 0.1796,  0.0524,  0.0684,  ..., -0.6803, -0.3154, -0.0564]],\n",
      "       grad_fn=<AddmmBackward>)\n"
     ]
    }
   ],
   "source": [
    "import torch.nn as nn\n",
    "import torch\n",
    "m = nn.Linear(20, 60)\n",
    "input = torch.randn(128, 20)\n",
    "output = m(input)\n",
    "print(output)"
   ]
  }
 ],
 "metadata": {
  "kernelspec": {
   "display_name": "Python 3",
   "language": "python",
   "name": "python3"
  },
  "language_info": {
   "codemirror_mode": {
    "name": "ipython",
    "version": 3
   },
   "file_extension": ".py",
   "mimetype": "text/x-python",
   "name": "python",
   "nbconvert_exporter": "python",
   "pygments_lexer": "ipython3",
   "version": "3.8.5"
  }
 },
 "nbformat": 4,
 "nbformat_minor": 4
}
