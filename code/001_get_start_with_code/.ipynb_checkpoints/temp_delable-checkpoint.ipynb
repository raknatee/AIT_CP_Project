{
 "cells": [
  {
   "cell_type": "code",
   "execution_count": 3,
   "metadata": {},
   "outputs": [
    {
     "name": "stdout",
     "output_type": "stream",
     "text": [
      "tensor([[ 1.0993,  0.6363, -0.1717,  ...,  0.9601,  0.1652, -0.1621],\n",
      "        [ 0.1677,  0.6582, -0.4846,  ...,  0.3972,  0.1438, -0.4113],\n",
      "        [ 0.1584,  0.0883, -0.7512,  ..., -0.4486, -1.3245, -0.6065],\n",
      "        ...,\n",
      "        [ 0.4441,  0.1566, -0.1179,  ..., -0.4029,  0.4932, -0.9036],\n",
      "        [-0.0018,  0.3693,  0.0096,  ...,  0.4948,  0.2337, -1.0814],\n",
      "        [ 0.4037,  0.9282, -0.1182,  ..., -0.0280, -0.5328, -0.6677]],\n",
      "       grad_fn=<AddmmBackward>)\n"
     ]
    }
   ],
   "source": [
    "import torch.nn as nn\n",
    "import torch\n",
    "m = nn.Linear(20, 60)\n",
    "input = torch.randn(128, 20)\n",
    "output = m(input)\n",
    "print(output)"
   ]
  }
 ],
 "metadata": {
  "kernelspec": {
   "display_name": "Python 3",
   "language": "python",
   "name": "python3"
  },
  "language_info": {
   "codemirror_mode": {
    "name": "ipython",
    "version": 3
   },
   "file_extension": ".py",
   "mimetype": "text/x-python",
   "name": "python",
   "nbconvert_exporter": "python",
   "pygments_lexer": "ipython3",
   "version": "3.8.5"
  }
 },
 "nbformat": 4,
 "nbformat_minor": 4
}
