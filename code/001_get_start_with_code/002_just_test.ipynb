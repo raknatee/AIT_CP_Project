{
 "cells": [
  {
   "cell_type": "code",
   "execution_count": 1,
   "metadata": {},
   "outputs": [
    {
     "name": "stdout",
     "output_type": "stream",
     "text": [
      "0\n"
     ]
    }
   ],
   "source": [
    "\n",
    "from my_modules.log import log,Limit,CounterBreak,CounterMod\n",
    "\n",
    "\n",
    "\n",
    "from my_modules.load_data import MyDataset\n",
    "import my_modules.model.lstm as model_modules\n",
    "from my_modules.model.lstm import LSTM_0,move_to_gpu,del_gpu,LSTM_1,LSTM_2,LSTM_3,LSTM_4\n",
    "from my_modules.model.lstmcnn import LSTMCNN_1,LSTMCNN_2,LSTMCNN_3,LSTMCNN_4,LSTMCNN_5\n",
    "from my_modules.model.lstmcnn_part2 import LSTMCNN_6\n",
    "from my_modules.model.lstmcnn_part3 import LSTMCNN_10\n",
    "\n",
    "\n",
    "\n",
    "import torch\n",
    "from torch import nn\n",
    "from torch.utils.data import DataLoader\n",
    "\n",
    "import os\n",
    "os.environ['CUDA_LAUNCH_BLOCKING'] = '1'\n",
    "\n",
    "from tqdm import tqdm\n",
    "\n",
    "print(model_modules.get_used_memory())"
   ]
  },
  {
   "cell_type": "code",
   "execution_count": 2,
   "metadata": {},
   "outputs": [],
   "source": [
    "train_index_movie = [i for i in range(38)]\n",
    "test_index_movie = [i for i in range(len(train_index_movie),40)]\n",
    "\n",
    "data_path = r'C:\\Users\\rakna\\Desktop\\AIT_working\\AIT_CP_Project\\this_folder_git_ignore\\ori_datasets\\s01.dat'\n",
    "# window_size = 145*5\n",
    "window_size = 145*10\n",
    "\n",
    "step_window = 145\n",
    "\n",
    "data_train = MyDataset(data_path,window_size,step_window,train_index_movie)\n",
    "data_test = MyDataset(data_path,window_size,step_window,test_index_movie)"
   ]
  },
  {
   "cell_type": "code",
   "execution_count": 3,
   "metadata": {},
   "outputs": [
    {
     "name": "stdout",
     "output_type": "stream",
     "text": [
      "GeForce GTX 1070 Ti\n"
     ]
    }
   ],
   "source": [
    "model_modules.do_gpu = torch.cuda.is_available()\n",
    "# model_modules.do_gpu = False\n",
    "\n",
    "if(model_modules.do_gpu):\n",
    "    print(torch.cuda.get_device_name())\n",
    "else:\n",
    "    print('using CPU')\n",
    "\n",
    "data_loader = DataLoader(data_train,batch_size = 16,shuffle=True,pin_memory=model_modules.do_gpu)\n",
    "data_loader_test  = DataLoader(data_test,batch_size = 16,shuffle=True,pin_memory=model_modules.do_gpu)"
   ]
  },
  {
   "cell_type": "code",
   "execution_count": 4,
   "metadata": {},
   "outputs": [
    {
     "name": "stderr",
     "output_type": "stream",
     "text": [
      "100%|████████████████████████████████████████████████████████████████████████████████████| 6/6 [00:01<00:00,  4.00it/s]"
     ]
    },
    {
     "name": "stdout",
     "output_type": "stream",
     "text": [
      "tensor([7.1618, 6.4838], device='cuda:0') vs tensor([5.1000, 7.1200], device='cuda:0')\n",
      "tensor([3.9602, 4.6790], device='cuda:0') vs tensor([3.2400, 6.1800], device='cuda:0')\n",
      "tensor([6.1016, 5.7010], device='cuda:0') vs tensor([5.1000, 7.1200], device='cuda:0')\n",
      "tensor([4.5375, 4.7681], device='cuda:0') vs tensor([3.2400, 6.1800], device='cuda:0')\n",
      "tensor([4.7943, 5.5273], device='cuda:0') vs tensor([3.2400, 6.1800], device='cuda:0')\n",
      "tensor([4.9268, 5.5600], device='cuda:0') vs tensor([3.2400, 6.1800], device='cuda:0')\n",
      "tensor([4.0020, 4.5409], device='cuda:0') vs tensor([3.2400, 6.1800], device='cuda:0')\n",
      "tensor([4.9095, 5.8547], device='cuda:0') vs tensor([3.2400, 6.1800], device='cuda:0')\n",
      "tensor([4.9155, 5.6466], device='cuda:0') vs tensor([5.1000, 7.1200], device='cuda:0')\n",
      "tensor([4.3096, 5.3126], device='cuda:0') vs tensor([3.2400, 6.1800], device='cuda:0')\n",
      "tensor([4.4378, 5.4611], device='cuda:0') vs tensor([3.2400, 6.1800], device='cuda:0')\n",
      "tensor([3.9229, 4.9547], device='cuda:0') vs tensor([5.1000, 7.1200], device='cuda:0')\n",
      "1.931836227575938\n",
      "max diff 0.891815185546875\n",
      "mean diff -0.3196872239527495\n"
     ]
    },
    {
     "name": "stderr",
     "output_type": "stream",
     "text": [
      "\n"
     ]
    }
   ],
   "source": [
    "\n",
    "input_size = 40\n",
    "torch.manual_seed(3333)\n",
    "loss_func = nn.MSELoss()\n",
    "\n",
    "model = LSTMCNN_10(input_size=input_size,number_layers=1,hidden_size=20)\n",
    "model = move_to_gpu(model)\n",
    "model.load_state_dict(torch.load(r'C:\\Users\\rakna\\Desktop\\AIT_working\\AIT_CP_Project\\this_folder_git_ignore\\w\\v017\\model_070_1dot90'))\n",
    "error = 0\n",
    "c=0\n",
    "temp = []\n",
    "with torch.no_grad():\n",
    "    for test_data,y_test in tqdm(data_loader_test):\n",
    "        test_data = move_to_gpu(test_data)    \n",
    "        y_test = move_to_gpu(y_test)\n",
    "\n",
    "        bz = test_data.shape[0]\n",
    "        model.reset_hidden(bz)\n",
    "        y_hat_test = model(test_data)\n",
    "    \n",
    "        if(CounterMod.init().set_mod(6).count()):\n",
    "            for i in range(y_hat_test.shape[0]):\n",
    "                \n",
    "                print(y_hat_test[i],'vs',y_test[i])\n",
    "        batch_loss_test = loss_func(y_hat_test,y_test)\n",
    "        for eee in (y_hat_test[:,0]-y_hat_test[:,1]).tolist():\n",
    "            temp.append(eee)\n",
    "        \n",
    "        error+= float(batch_loss_test)\n",
    "        c+=1\n",
    "\n",
    "\n",
    "\n",
    "print(error/c)\n",
    "print('max diff',max(temp) )\n",
    "print('mean diff',sum(temp)/len(temp) )"
   ]
  }
 ],
 "metadata": {
  "kernelspec": {
   "display_name": "Python 3",
   "language": "python",
   "name": "python3"
  },
  "language_info": {
   "codemirror_mode": {
    "name": "ipython",
    "version": 3
   },
   "file_extension": ".py",
   "mimetype": "text/x-python",
   "name": "python",
   "nbconvert_exporter": "python",
   "pygments_lexer": "ipython3",
   "version": "3.8.5"
  }
 },
 "nbformat": 4,
 "nbformat_minor": 4
}
