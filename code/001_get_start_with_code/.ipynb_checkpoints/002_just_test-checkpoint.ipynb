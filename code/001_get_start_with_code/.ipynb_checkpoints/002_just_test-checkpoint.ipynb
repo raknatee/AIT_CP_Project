{
 "cells": [
  {
   "cell_type": "code",
   "execution_count": 1,
   "metadata": {},
   "outputs": [
    {
     "name": "stdout",
     "output_type": "stream",
     "text": [
      "0\n"
     ]
    }
   ],
   "source": [
    "\n",
    "from my_modules.log import log,Limit,CounterBreak,CounterMod\n",
    "\n",
    "\n",
    "\n",
    "from my_modules.load_data import MyDataset\n",
    "import my_modules.model.lstm as model_modules\n",
    "from my_modules.model.lstm import LSTM_0,move_to_gpu,del_gpu,LSTM_1,LSTM_2,LSTM_3,LSTM_4\n",
    "from my_modules.model.lstmcnn import LSTMCNN_1,LSTMCNN_2,LSTMCNN_3,LSTMCNN_4\n",
    "\n",
    "\n",
    "import torch\n",
    "from torch import nn\n",
    "from torch.utils.data import DataLoader\n",
    "\n",
    "import os\n",
    "os.environ['CUDA_LAUNCH_BLOCKING'] = '1'\n",
    "\n",
    "from tqdm import tqdm\n",
    "\n",
    "print(model_modules.get_used_memory())"
   ]
  },
  {
   "cell_type": "code",
   "execution_count": 2,
   "metadata": {},
   "outputs": [],
   "source": [
    "train_index_movie = [i for i in range(38)]\n",
    "test_index_movie = [i for i in range(len(train_index_movie),40)]\n",
    "\n",
    "data_path = r'C:\\Users\\rakna\\Desktop\\AIT_working\\AIT_CP_Project\\this_folder_git_ignore\\ori_datasets\\s01.dat'\n",
    "# window_size = 145*5\n",
    "window_size = 145*10\n",
    "\n",
    "step_window = 145\n",
    "\n",
    "data_train = MyDataset(data_path,window_size,step_window,train_index_movie)\n",
    "data_test = MyDataset(data_path,window_size,step_window,test_index_movie)"
   ]
  },
  {
   "cell_type": "code",
   "execution_count": 3,
   "metadata": {},
   "outputs": [
    {
     "name": "stdout",
     "output_type": "stream",
     "text": [
      "GeForce GTX 1070 Ti\n"
     ]
    }
   ],
   "source": [
    "model_modules.do_gpu = torch.cuda.is_available()\n",
    "# model_modules.do_gpu = False\n",
    "\n",
    "if(model_modules.do_gpu):\n",
    "    print(torch.cuda.get_device_name())\n",
    "else:\n",
    "    print('using CPU')\n",
    "\n",
    "data_loader = DataLoader(data_train,batch_size = 16,shuffle=True,pin_memory=model_modules.do_gpu)\n",
    "data_loader_test  = DataLoader(data_test,batch_size = 16,shuffle=True,pin_memory=model_modules.do_gpu)"
   ]
  },
  {
   "cell_type": "code",
   "execution_count": 4,
   "metadata": {},
   "outputs": [
    {
     "name": "stderr",
     "output_type": "stream",
     "text": [
      "100%|████████████████████████████████████████████████████████████████████████████████████| 6/6 [00:01<00:00,  3.14it/s]"
     ]
    },
    {
     "name": "stdout",
     "output_type": "stream",
     "text": [
      "tensor([5.5950, 5.5818], device='cuda:0') vs tensor([5.1000, 7.1200], device='cuda:0')\n",
      "tensor([5.7119, 6.4391], device='cuda:0') vs tensor([3.2400, 6.1800], device='cuda:0')\n",
      "tensor([8.5515, 7.3785], device='cuda:0') vs tensor([5.1000, 7.1200], device='cuda:0')\n",
      "tensor([8.4222, 8.2946], device='cuda:0') vs tensor([5.1000, 7.1200], device='cuda:0')\n",
      "tensor([5.7561, 4.9926], device='cuda:0') vs tensor([3.2400, 6.1800], device='cuda:0')\n",
      "tensor([7.5331, 6.9317], device='cuda:0') vs tensor([3.2400, 6.1800], device='cuda:0')\n",
      "tensor([9.6693, 8.1080], device='cuda:0') vs tensor([5.1000, 7.1200], device='cuda:0')\n",
      "tensor([3.0574, 3.6206], device='cuda:0') vs tensor([3.2400, 6.1800], device='cuda:0')\n",
      "tensor([6.7655, 7.1827], device='cuda:0') vs tensor([3.2400, 6.1800], device='cuda:0')\n",
      "tensor([7.8325, 6.7507], device='cuda:0') vs tensor([5.1000, 7.1200], device='cuda:0')\n",
      "tensor([7.7013, 7.9809], device='cuda:0') vs tensor([5.1000, 7.1200], device='cuda:0')\n",
      "tensor([7.9147, 8.3691], device='cuda:0') vs tensor([5.1000, 7.1200], device='cuda:0')\n",
      "4.924821297327678\n"
     ]
    },
    {
     "name": "stderr",
     "output_type": "stream",
     "text": [
      "\n"
     ]
    }
   ],
   "source": [
    "\n",
    "input_size = 40\n",
    "torch.manual_seed(3333)\n",
    "loss_func = nn.MSELoss()\n",
    "\n",
    "model = LSTMCNN_4(input_size=input_size,number_layers=1,hidden_size=20)\n",
    "model = move_to_gpu(model)\n",
    "model.load_state_dict(torch.load(r'C:\\Users\\rakna\\Desktop\\AIT_working\\AIT_CP_Project\\this_folder_git_ignore\\w\\v009\\model_086_3dot98'))\n",
    "error = 0\n",
    "c=0\n",
    "with torch.no_grad():\n",
    "    for test_data,y_test in tqdm(data_loader_test):\n",
    "        test_data = move_to_gpu(test_data)    \n",
    "        y_test = move_to_gpu(y_test)\n",
    "\n",
    "        bz = test_data.shape[0]\n",
    "        model.reset_hidden(bz)\n",
    "        y_hat_test = model(test_data)\n",
    "    \n",
    "        if(CounterMod.init().set_mod(6).count()):\n",
    "            for i in range(y_hat_test.shape[0]):\n",
    "                \n",
    "                print(y_hat_test[i],'vs',y_test[i])\n",
    "        batch_loss_test = loss_func(y_hat_test,y_test)\n",
    "        \n",
    "        error+= float(batch_loss_test)\n",
    "        c+=1\n",
    "\n",
    "\n",
    "\n",
    "print(error/c)"
   ]
  }
 ],
 "metadata": {
  "kernelspec": {
   "display_name": "Python 3",
   "language": "python",
   "name": "python3"
  },
  "language_info": {
   "codemirror_mode": {
    "name": "ipython",
    "version": 3
   },
   "file_extension": ".py",
   "mimetype": "text/x-python",
   "name": "python",
   "nbconvert_exporter": "python",
   "pygments_lexer": "ipython3",
   "version": "3.8.5"
  }
 },
 "nbformat": 4,
 "nbformat_minor": 4
}
