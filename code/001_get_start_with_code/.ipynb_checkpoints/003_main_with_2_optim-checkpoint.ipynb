{
 "cells": [
  {
   "cell_type": "code",
   "execution_count": 1,
   "metadata": {},
   "outputs": [
    {
     "name": "stdout",
     "output_type": "stream",
     "text": [
      "0\n"
     ]
    }
   ],
   "source": [
    "\n",
    "from my_modules.log import log,Limit,CounterBreak,CounterMod\n",
    "\n",
    "\n",
    "\n",
    "from my_modules.load_data import MyDataset\n",
    "import my_modules.model.lstm as model_modules\n",
    "from my_modules.model.lstm import LSTM_0,move_to_gpu,del_gpu,LSTM_1,LSTM_2,LSTM_3,LSTM_4\n",
    "from my_modules.model.lstmcnn_part2 import LSTMCNN_6,LSTMCNN_7,LSTMCNN_8,LSTMCNN_9\n",
    "\n",
    "\n",
    "import torch\n",
    "from torch import nn\n",
    "from torch.utils.data import DataLoader\n",
    "\n",
    "import os\n",
    "# os.environ['CUDA_LAUNCH_BLOCKING'] = '1'\n",
    "\n",
    "from tqdm import tqdm\n",
    "\n",
    "print(model_modules.get_used_memory())"
   ]
  },
  {
   "cell_type": "code",
   "execution_count": 2,
   "metadata": {},
   "outputs": [],
   "source": [
    "train_index_movie = [i for i in range(38)]\n",
    "test_index_movie = [i for i in range(len(train_index_movie),40)]\n",
    "\n",
    "data_path = r'C:\\Users\\rakna\\Desktop\\AIT_working\\AIT_CP_Project\\this_folder_git_ignore\\ori_datasets\\s01.dat'\n",
    "# window_size = 145*5\n",
    "window_size = 145*10\n",
    "step_window = 10\n",
    "\n",
    "data_train = MyDataset(data_path,window_size,step_window,train_index_movie)\n",
    "data_test = MyDataset(data_path,window_size,step_window,test_index_movie)"
   ]
  },
  {
   "cell_type": "code",
   "execution_count": 3,
   "metadata": {},
   "outputs": [
    {
     "name": "stdout",
     "output_type": "stream",
     "text": [
      "GeForce GTX 1070 Ti\n"
     ]
    }
   ],
   "source": [
    "model_modules.do_gpu = torch.cuda.is_available()\n",
    "# model_modules.do_gpu = False\n",
    "\n",
    "if(model_modules.do_gpu):\n",
    "    print(torch.cuda.get_device_name())\n",
    "else:\n",
    "    print('using CPU')\n",
    "\n",
    "data_loader = DataLoader(data_train,batch_size = 16,shuffle=True,pin_memory=model_modules.do_gpu)\n",
    "data_loader_test  = DataLoader(data_test,batch_size = 16,shuffle=True,pin_memory=model_modules.do_gpu)"
   ]
  },
  {
   "cell_type": "code",
   "execution_count": 4,
   "metadata": {},
   "outputs": [],
   "source": [
    "# input_size = num EEG channels\n",
    "\n",
    "\n",
    "input_size = 40\n",
    "torch.manual_seed(42)\n",
    "save_folder = 'v015'\n",
    "model = LSTMCNN_9(input_size=input_size,number_layers=1,hidden_size=20)\n",
    "model = move_to_gpu(model)\n",
    "# print(model.eval())\n",
    "loss_func = nn.MSELoss()\n",
    "optimizer = torch.optim.Adam(model.parameters_with_l2(),lr=1e-5,weight_decay=1e-3)\n",
    "optimizer_without_l2 = torch.optim.Adam(model.parameters_without_l2(),lr=1e-5)\n"
   ]
  },
  {
   "cell_type": "code",
   "execution_count": 5,
   "metadata": {
    "scrolled": true
   },
   "outputs": [
    {
     "name": "stderr",
     "output_type": "stream",
     "text": [
      "  0%|▏                                                                                | 3/1573 [00:00<03:34,  7.34it/s]\n",
      "  4%|███                                                                                | 3/83 [00:00<00:02, 27.52it/s]\n",
      "  0%|                                                                                         | 0/1573 [00:00<?, ?it/s]"
     ]
    },
    {
     "name": "stdout",
     "output_type": "stream",
     "text": [
      "limit train_data\n",
      "==============================loss train at epoch 0==============================\n",
      "32.46030871073405\n",
      "limit test_data\n",
      "==============================loss test at epoch 0==============================\n",
      "30.69842020670573\n",
      "============================================================save w============================================================\n"
     ]
    },
    {
     "name": "stderr",
     "output_type": "stream",
     "text": [
      "  0%|▏                                                                                | 3/1573 [00:00<01:46, 14.71it/s]\n",
      "  4%|███                                                                                | 3/83 [00:00<00:02, 30.92it/s]\n",
      "  0%|                                                                                         | 0/1573 [00:00<?, ?it/s]"
     ]
    },
    {
     "name": "stdout",
     "output_type": "stream",
     "text": [
      "==============================loss train at epoch 1==============================\n",
      "37.76999155680338\n",
      "==============================loss test at epoch 1==============================\n",
      "28.355260848999023\n",
      "============================================================save w============================================================\n"
     ]
    },
    {
     "name": "stderr",
     "output_type": "stream",
     "text": [
      "  0%|▏                                                                                | 3/1573 [00:00<02:00, 12.99it/s]\n",
      "  4%|███                                                                                | 3/83 [00:00<00:02, 30.00it/s]\n",
      "  0%|                                                                                         | 0/1573 [00:00<?, ?it/s]"
     ]
    },
    {
     "name": "stdout",
     "output_type": "stream",
     "text": [
      "==============================loss train at epoch 2==============================\n",
      "32.86501439412435\n"
     ]
    },
    {
     "name": "stderr",
     "output_type": "stream",
     "text": [
      "  0%|▏                                                                                | 3/1573 [00:00<01:46, 14.71it/s]\n",
      "  4%|███                                                                                | 3/83 [00:00<00:02, 30.00it/s]\n",
      "  0%|                                                                                         | 0/1573 [00:00<?, ?it/s]"
     ]
    },
    {
     "name": "stdout",
     "output_type": "stream",
     "text": [
      "==============================loss train at epoch 3==============================\n",
      "29.404816309611004\n"
     ]
    },
    {
     "name": "stderr",
     "output_type": "stream",
     "text": [
      "  0%|▏                                                                                | 3/1573 [00:00<01:49, 14.29it/s]\n",
      "  4%|███                                                                                | 3/83 [00:00<00:02, 29.41it/s]\n",
      "  0%|                                                                                         | 0/1573 [00:00<?, ?it/s]"
     ]
    },
    {
     "name": "stdout",
     "output_type": "stream",
     "text": [
      "==============================loss train at epoch 4==============================\n",
      "33.893463134765625\n",
      "==============================(from CounterMod)loss test at epoch 4==============================\n",
      "31.82998212178548\n",
      "ram gpu 16060928\n"
     ]
    },
    {
     "name": "stderr",
     "output_type": "stream",
     "text": [
      "  0%|▏                                                                                | 3/1573 [00:00<01:41, 15.54it/s]\n",
      "  4%|███                                                                                | 3/83 [00:00<00:02, 28.30it/s]\n",
      "  0%|                                                                                         | 0/1573 [00:00<?, ?it/s]"
     ]
    },
    {
     "name": "stdout",
     "output_type": "stream",
     "text": [
      "==============================loss train at epoch 5==============================\n",
      "30.789509455362957\n"
     ]
    },
    {
     "name": "stderr",
     "output_type": "stream",
     "text": [
      "  0%|▏                                                                                | 3/1573 [00:00<02:02, 12.77it/s]\n",
      "  4%|███                                                                                | 3/83 [00:00<00:03, 26.55it/s]\n",
      "  0%|                                                                                         | 0/1573 [00:00<?, ?it/s]"
     ]
    },
    {
     "name": "stdout",
     "output_type": "stream",
     "text": [
      "==============================loss train at epoch 6==============================\n",
      "29.643145243326824\n"
     ]
    },
    {
     "name": "stderr",
     "output_type": "stream",
     "text": [
      "  0%|▏                                                                                | 3/1573 [00:00<01:49, 14.28it/s]\n",
      "  4%|███                                                                                | 3/83 [00:00<00:02, 27.27it/s]\n",
      "  0%|                                                                                         | 0/1573 [00:00<?, ?it/s]"
     ]
    },
    {
     "name": "stdout",
     "output_type": "stream",
     "text": [
      "==============================loss train at epoch 7==============================\n",
      "37.2168820699056\n"
     ]
    },
    {
     "name": "stderr",
     "output_type": "stream",
     "text": [
      "  0%|▏                                                                                | 3/1573 [00:00<01:45, 14.85it/s]\n",
      "  4%|███                                                                                | 3/83 [00:00<00:02, 28.30it/s]\n",
      "  0%|                                                                                         | 0/1573 [00:00<?, ?it/s]"
     ]
    },
    {
     "name": "stdout",
     "output_type": "stream",
     "text": [
      "==============================loss train at epoch 8==============================\n",
      "35.011619567871094\n"
     ]
    },
    {
     "name": "stderr",
     "output_type": "stream",
     "text": [
      "  0%|▏                                                                                | 3/1573 [00:00<01:43, 15.15it/s]\n",
      "  4%|███                                                                                | 3/83 [00:00<00:02, 27.78it/s]\n",
      "  0%|                                                                                         | 0/1573 [00:00<?, ?it/s]"
     ]
    },
    {
     "name": "stdout",
     "output_type": "stream",
     "text": [
      "==============================loss train at epoch 9==============================\n",
      "33.76035690307617\n",
      "==============================(from CounterMod)loss test at epoch 9==============================\n",
      "31.195335388183594\n",
      "ram gpu 16060928\n"
     ]
    },
    {
     "name": "stderr",
     "output_type": "stream",
     "text": [
      "  0%|                                                                                         | 0/1573 [00:00<?, ?it/s]\n"
     ]
    },
    {
     "ename": "KeyboardInterrupt",
     "evalue": "",
     "output_type": "error",
     "traceback": [
      "\u001b[1;31m---------------------------------------------------------------------------\u001b[0m",
      "\u001b[1;31mKeyboardInterrupt\u001b[0m                         Traceback (most recent call last)",
      "\u001b[1;32m<ipython-input-5-a29045be5728>\u001b[0m in \u001b[0;36m<module>\u001b[1;34m\u001b[0m\n\u001b[0;32m     38\u001b[0m             \u001b[0mloss_train_batch\u001b[0m\u001b[1;33m+=\u001b[0m\u001b[0mfloat\u001b[0m\u001b[1;33m(\u001b[0m\u001b[0mloss\u001b[0m\u001b[1;33m)\u001b[0m\u001b[1;33m\u001b[0m\u001b[1;33m\u001b[0m\u001b[0m\n\u001b[0;32m     39\u001b[0m             \u001b[0mc\u001b[0m\u001b[1;33m+=\u001b[0m\u001b[1;36m1\u001b[0m\u001b[1;33m\u001b[0m\u001b[1;33m\u001b[0m\u001b[0m\n\u001b[1;32m---> 40\u001b[1;33m             \u001b[0mloss\u001b[0m\u001b[1;33m.\u001b[0m\u001b[0mbackward\u001b[0m\u001b[1;33m(\u001b[0m\u001b[1;33m)\u001b[0m\u001b[1;33m\u001b[0m\u001b[1;33m\u001b[0m\u001b[0m\n\u001b[0m\u001b[0;32m     41\u001b[0m             \u001b[0moptimizer\u001b[0m\u001b[1;33m.\u001b[0m\u001b[0mstep\u001b[0m\u001b[1;33m(\u001b[0m\u001b[1;33m)\u001b[0m\u001b[1;33m\u001b[0m\u001b[1;33m\u001b[0m\u001b[0m\n\u001b[0;32m     42\u001b[0m             \u001b[0moptimizer_without_l2\u001b[0m\u001b[1;33m.\u001b[0m\u001b[0mstep\u001b[0m\u001b[1;33m(\u001b[0m\u001b[1;33m)\u001b[0m\u001b[1;33m\u001b[0m\u001b[1;33m\u001b[0m\u001b[0m\n",
      "\u001b[1;32m~\\anaconda3\\envs\\torch_gpu\\lib\\site-packages\\torch\\tensor.py\u001b[0m in \u001b[0;36mbackward\u001b[1;34m(self, gradient, retain_graph, create_graph)\u001b[0m\n\u001b[0;32m    183\u001b[0m                 \u001b[0mproducts\u001b[0m\u001b[1;33m.\u001b[0m \u001b[0mDefaults\u001b[0m \u001b[0mto\u001b[0m\u001b[0;31m \u001b[0m\u001b[0;31m`\u001b[0m\u001b[0;31m`\u001b[0m\u001b[1;32mFalse\u001b[0m\u001b[0;31m`\u001b[0m\u001b[0;31m`\u001b[0m\u001b[1;33m.\u001b[0m\u001b[1;33m\u001b[0m\u001b[1;33m\u001b[0m\u001b[0m\n\u001b[0;32m    184\u001b[0m         \"\"\"\n\u001b[1;32m--> 185\u001b[1;33m         \u001b[0mtorch\u001b[0m\u001b[1;33m.\u001b[0m\u001b[0mautograd\u001b[0m\u001b[1;33m.\u001b[0m\u001b[0mbackward\u001b[0m\u001b[1;33m(\u001b[0m\u001b[0mself\u001b[0m\u001b[1;33m,\u001b[0m \u001b[0mgradient\u001b[0m\u001b[1;33m,\u001b[0m \u001b[0mretain_graph\u001b[0m\u001b[1;33m,\u001b[0m \u001b[0mcreate_graph\u001b[0m\u001b[1;33m)\u001b[0m\u001b[1;33m\u001b[0m\u001b[1;33m\u001b[0m\u001b[0m\n\u001b[0m\u001b[0;32m    186\u001b[0m \u001b[1;33m\u001b[0m\u001b[0m\n\u001b[0;32m    187\u001b[0m     \u001b[1;32mdef\u001b[0m \u001b[0mregister_hook\u001b[0m\u001b[1;33m(\u001b[0m\u001b[0mself\u001b[0m\u001b[1;33m,\u001b[0m \u001b[0mhook\u001b[0m\u001b[1;33m)\u001b[0m\u001b[1;33m:\u001b[0m\u001b[1;33m\u001b[0m\u001b[1;33m\u001b[0m\u001b[0m\n",
      "\u001b[1;32m~\\anaconda3\\envs\\torch_gpu\\lib\\site-packages\\torch\\autograd\\__init__.py\u001b[0m in \u001b[0;36mbackward\u001b[1;34m(tensors, grad_tensors, retain_graph, create_graph, grad_variables)\u001b[0m\n\u001b[0;32m    123\u001b[0m         \u001b[0mretain_graph\u001b[0m \u001b[1;33m=\u001b[0m \u001b[0mcreate_graph\u001b[0m\u001b[1;33m\u001b[0m\u001b[1;33m\u001b[0m\u001b[0m\n\u001b[0;32m    124\u001b[0m \u001b[1;33m\u001b[0m\u001b[0m\n\u001b[1;32m--> 125\u001b[1;33m     Variable._execution_engine.run_backward(\n\u001b[0m\u001b[0;32m    126\u001b[0m         \u001b[0mtensors\u001b[0m\u001b[1;33m,\u001b[0m \u001b[0mgrad_tensors\u001b[0m\u001b[1;33m,\u001b[0m \u001b[0mretain_graph\u001b[0m\u001b[1;33m,\u001b[0m \u001b[0mcreate_graph\u001b[0m\u001b[1;33m,\u001b[0m\u001b[1;33m\u001b[0m\u001b[1;33m\u001b[0m\u001b[0m\n\u001b[0;32m    127\u001b[0m         allow_unreachable=True)  # allow_unreachable flag\n",
      "\u001b[1;31mKeyboardInterrupt\u001b[0m: "
     ]
    }
   ],
   "source": [
    "best_loss = None\n",
    "\n",
    "pl_1 = Limit(1)\n",
    "pl_1_2 = Limit(1)\n",
    "\n",
    "do_train = True\n",
    "is_limit = False\n",
    "if(do_train):\n",
    "    epoch = -1\n",
    "    while True:\n",
    "        epoch+=1\n",
    "#     for epoch in range(100):\n",
    "\n",
    "        pl = Limit(3)\n",
    "        loss_train_batch = 0\n",
    "        c=0\n",
    "        for train_data,label in tqdm(data_loader):\n",
    "\n",
    "            if(is_limit):\n",
    "                if(CounterBreak.set_count(2).count()):\n",
    "                    pl_1('limit train_data')\n",
    "                    break\n",
    "   \n",
    "            train_data = move_to_gpu(train_data)\n",
    "            label = move_to_gpu(label)\n",
    "\n",
    "\n",
    "            optimizer.zero_grad()\n",
    "            optimizer_without_l2.zero_grad()\n",
    "            bz = train_data.shape[0]\n",
    "            model.reset_hidden(bz)\n",
    "\n",
    "\n",
    "\n",
    "            y_hat = (model(train_data))\n",
    "          \n",
    "            loss = loss_func(y_hat,label)\n",
    "            loss_train_batch+=float(loss)\n",
    "            c+=1\n",
    "            loss.backward()\n",
    "            optimizer.step()\n",
    "            optimizer_without_l2.step()\n",
    "\n",
    "    #         del_gpu(train_data,label)\n",
    "\n",
    "        log(loss_train_batch/c,title=f\"loss train at epoch {epoch}\")\n",
    "        \n",
    "        \n",
    "\n",
    "        '''\n",
    "            find loss test\n",
    "        '''\n",
    "        loss_test=0\n",
    "        c = 0\n",
    "        with torch.no_grad():\n",
    "            for test_data,y_test in tqdm(data_loader_test):\n",
    "                \n",
    "                \n",
    "                if(is_limit):\n",
    "                    if(CounterBreak.set_count(2).count()):\n",
    "                        pl_1_2('limit test_data')\n",
    "                        break\n",
    "\n",
    "                test_data = move_to_gpu(test_data)    \n",
    "                y_test = move_to_gpu(y_test)\n",
    "\n",
    "                bz = test_data.shape[0]\n",
    "                \n",
    "                model.reset_hidden(bz)\n",
    "                y_hat_test = model(test_data)\n",
    "\n",
    "                batch_loss_test = loss_func(y_hat_test,y_test)\n",
    "\n",
    "                loss_test+= float(batch_loss_test)\n",
    "                c+=1\n",
    "\n",
    "    #             del_gpu(test_data,y_test)\n",
    "    \n",
    "    \n",
    "        loss_test = loss_test/c\n",
    "        \n",
    "        rp = r\"C:\\Users\\rakna\\Desktop\\AIT_working\\AIT_CP_Project\\this_folder_git_ignore\\w\"\n",
    "        if(CounterMod.init().set_mod(5).count()):\n",
    "            log(loss_test,title=f\"(from CounterMod)loss test at epoch {epoch}\")\n",
    "            log('ram gpu',torch.cuda.memory_allocated())\n",
    "            torch.save(model.state_dict(), os.path.join(rp,save_folder,f'./autosave_model_{epoch:03}_{\"{:.2f}\".format(loss_test).replace(\".\",\"dot\") }' ) )\n",
    "            \n",
    "        if(best_loss is None or loss_test<best_loss):\n",
    "            best_loss=loss_test\n",
    "            \n",
    "            torch.save(model.state_dict(), os.path.join(rp,save_folder,f'./model_{epoch:03}_{\"{:.2f}\".format(loss_test).replace(\".\",\"dot\") }' ) )\n",
    "            log(loss_test,title=f\"loss test at epoch {epoch}\")\n",
    "            log(title='save w',n=60)\n",
    "        \n",
    "\n",
    "        \n",
    "        \n",
    "    \n",
    "\n",
    "    "
   ]
  }
 ],
 "metadata": {
  "kernelspec": {
   "display_name": "Python 3",
   "language": "python",
   "name": "python3"
  },
  "language_info": {
   "codemirror_mode": {
    "name": "ipython",
    "version": 3
   },
   "file_extension": ".py",
   "mimetype": "text/x-python",
   "name": "python",
   "nbconvert_exporter": "python",
   "pygments_lexer": "ipython3",
   "version": "3.8.5"
  }
 },
 "nbformat": 4,
 "nbformat_minor": 4
}
