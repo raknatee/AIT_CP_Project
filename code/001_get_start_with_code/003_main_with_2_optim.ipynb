{
 "cells": [
  {
   "cell_type": "code",
   "execution_count": 1,
   "metadata": {},
   "outputs": [
    {
     "name": "stdout",
     "output_type": "stream",
     "text": [
      "0\n"
     ]
    }
   ],
   "source": [
    "\n",
    "from my_modules.log import log,Limit,CounterBreak,CounterMod\n",
    "\n",
    "\n",
    "\n",
    "from my_modules.load_data import MyDataset\n",
    "import my_modules.model.lstm as model_modules\n",
    "from my_modules.model.lstm import LSTM_0,move_to_gpu,del_gpu,LSTM_1,LSTM_2,LSTM_3,LSTM_4\n",
    "from my_modules.model.lstmcnn_part2 import LSTMCNN_6,LSTMCNN_7,LSTMCNN_8,LSTMCNN_9\n",
    "\n",
    "\n",
    "import torch\n",
    "from torch import nn\n",
    "from torch.utils.data import DataLoader\n",
    "\n",
    "import os\n",
    "# os.environ['CUDA_LAUNCH_BLOCKING'] = '1'\n",
    "\n",
    "from tqdm import tqdm\n",
    "\n",
    "print(model_modules.get_used_memory())"
   ]
  },
  {
   "cell_type": "code",
   "execution_count": 2,
   "metadata": {},
   "outputs": [],
   "source": [
    "train_index_movie = [i for i in range(38)]\n",
    "test_index_movie = [i for i in range(len(train_index_movie),40)]\n",
    "\n",
    "data_path = r'C:\\Users\\rakna\\Desktop\\AIT_working\\AIT_CP_Project\\this_folder_git_ignore\\ori_datasets\\s01.dat'\n",
    "# window_size = 145*5\n",
    "window_size = 145*10\n",
    "step_window = 10\n",
    "\n",
    "data_train = MyDataset(data_path,window_size,step_window,train_index_movie)\n",
    "data_test = MyDataset(data_path,window_size,step_window,test_index_movie)"
   ]
  },
  {
   "cell_type": "code",
   "execution_count": 3,
   "metadata": {},
   "outputs": [
    {
     "name": "stdout",
     "output_type": "stream",
     "text": [
      "GeForce GTX 1070 Ti\n"
     ]
    }
   ],
   "source": [
    "model_modules.do_gpu = torch.cuda.is_available()\n",
    "# model_modules.do_gpu = False\n",
    "\n",
    "if(model_modules.do_gpu):\n",
    "    print(torch.cuda.get_device_name())\n",
    "else:\n",
    "    print('using CPU')\n",
    "\n",
    "data_loader = DataLoader(data_train,batch_size = 16,shuffle=True,pin_memory=model_modules.do_gpu)\n",
    "data_loader_test  = DataLoader(data_test,batch_size = 16,shuffle=True,pin_memory=model_modules.do_gpu)"
   ]
  },
  {
   "cell_type": "code",
   "execution_count": 4,
   "metadata": {},
   "outputs": [],
   "source": [
    "# input_size = num EEG channels\n",
    "\n",
    "\n",
    "input_size = 40\n",
    "torch.manual_seed(42)\n",
    "save_folder = 'v015'\n",
    "model = LSTMCNN_9(input_size=input_size,number_layers=1,hidden_size=20)\n",
    "model = move_to_gpu(model)\n",
    "# print(model.eval())\n",
    "loss_func = nn.MSELoss()\n",
    "optimizer = torch.optim.Adam(model.parameters_with_l2(),lr=1e-5,weight_decay=1e-3)\n",
    "optimizer_without_l2 = torch.optim.Adam(model.parameters_without_l2(),lr=1e-5)\n"
   ]
  },
  {
   "cell_type": "code",
   "execution_count": 5,
   "metadata": {
    "scrolled": true
   },
   "outputs": [
    {
     "name": "stderr",
     "output_type": "stream",
     "text": [
      "100%|██████████████████████████████████████████████████████████████████████████████| 1573/1573 [01:42<00:00, 15.42it/s]\n",
      "  4%|███                                                                                | 3/83 [00:00<00:02, 29.70it/s]"
     ]
    },
    {
     "name": "stdout",
     "output_type": "stream",
     "text": [
      "==============================loss train at epoch 0==============================\n",
      "21.840885894433452\n"
     ]
    },
    {
     "name": "stderr",
     "output_type": "stream",
     "text": [
      "100%|██████████████████████████████████████████████████████████████████████████████████| 83/83 [00:02<00:00, 31.33it/s]\n",
      "  0%|                                                                                 | 2/1573 [00:00<01:48, 14.49it/s]"
     ]
    },
    {
     "name": "stdout",
     "output_type": "stream",
     "text": [
      "==============================loss test at epoch 0==============================\n",
      "18.617691292820208\n",
      "============================================================save w============================================================\n"
     ]
    },
    {
     "name": "stderr",
     "output_type": "stream",
     "text": [
      "100%|██████████████████████████████████████████████████████████████████████████████| 1573/1573 [01:41<00:00, 15.45it/s]\n",
      "  4%|███                                                                                | 3/83 [00:00<00:02, 28.85it/s]"
     ]
    },
    {
     "name": "stdout",
     "output_type": "stream",
     "text": [
      "==============================loss train at epoch 1==============================\n",
      "15.92347231899487\n"
     ]
    },
    {
     "name": "stderr",
     "output_type": "stream",
     "text": [
      "100%|██████████████████████████████████████████████████████████████████████████████████| 83/83 [00:02<00:00, 30.63it/s]\n",
      "  0%|                                                                                 | 2/1573 [00:00<01:43, 15.15it/s]"
     ]
    },
    {
     "name": "stdout",
     "output_type": "stream",
     "text": [
      "==============================loss test at epoch 1==============================\n",
      "12.729237378361713\n",
      "============================================================save w============================================================\n"
     ]
    },
    {
     "name": "stderr",
     "output_type": "stream",
     "text": [
      "100%|██████████████████████████████████████████████████████████████████████████████| 1573/1573 [01:42<00:00, 15.31it/s]\n",
      "  5%|████                                                                               | 4/83 [00:00<00:02, 31.25it/s]"
     ]
    },
    {
     "name": "stdout",
     "output_type": "stream",
     "text": [
      "==============================loss train at epoch 2==============================\n",
      "12.859402649582986\n"
     ]
    },
    {
     "name": "stderr",
     "output_type": "stream",
     "text": [
      "100%|██████████████████████████████████████████████████████████████████████████████████| 83/83 [00:02<00:00, 30.63it/s]\n",
      "  0%|                                                                                 | 2/1573 [00:00<01:35, 16.39it/s]"
     ]
    },
    {
     "name": "stdout",
     "output_type": "stream",
     "text": [
      "==============================loss test at epoch 2==============================\n",
      "9.875907771558646\n",
      "============================================================save w============================================================\n"
     ]
    },
    {
     "name": "stderr",
     "output_type": "stream",
     "text": [
      "100%|██████████████████████████████████████████████████████████████████████████████| 1573/1573 [01:41<00:00, 15.54it/s]\n",
      "  4%|███                                                                                | 3/83 [00:00<00:02, 29.13it/s]"
     ]
    },
    {
     "name": "stdout",
     "output_type": "stream",
     "text": [
      "==============================loss train at epoch 3==============================\n",
      "11.878384765363089\n"
     ]
    },
    {
     "name": "stderr",
     "output_type": "stream",
     "text": [
      "100%|██████████████████████████████████████████████████████████████████████████████████| 83/83 [00:02<00:00, 30.86it/s]\n",
      "  0%|                                                                                 | 2/1573 [00:00<01:35, 16.53it/s]"
     ]
    },
    {
     "name": "stdout",
     "output_type": "stream",
     "text": [
      "==============================loss test at epoch 3==============================\n",
      "9.096117921622403\n",
      "============================================================save w============================================================\n"
     ]
    },
    {
     "name": "stderr",
     "output_type": "stream",
     "text": [
      "100%|██████████████████████████████████████████████████████████████████████████████| 1573/1573 [01:41<00:00, 15.44it/s]\n",
      "  5%|████                                                                               | 4/83 [00:00<00:02, 33.33it/s]"
     ]
    },
    {
     "name": "stdout",
     "output_type": "stream",
     "text": [
      "==============================loss train at epoch 4==============================\n",
      "11.413954992166992\n"
     ]
    },
    {
     "name": "stderr",
     "output_type": "stream",
     "text": [
      "100%|██████████████████████████████████████████████████████████████████████████████████| 83/83 [00:02<00:00, 31.40it/s]\n",
      "  0%|                                                                                 | 2/1573 [00:00<01:31, 17.24it/s]"
     ]
    },
    {
     "name": "stdout",
     "output_type": "stream",
     "text": [
      "==============================(from CounterMod)loss test at epoch 4==============================\n",
      "8.828355016478573\n",
      "ram gpu 19771392\n",
      "==============================loss test at epoch 4==============================\n",
      "8.828355016478573\n",
      "============================================================save w============================================================\n"
     ]
    },
    {
     "name": "stderr",
     "output_type": "stream",
     "text": [
      "100%|██████████████████████████████████████████████████████████████████████████████| 1573/1573 [01:41<00:00, 15.51it/s]\n",
      "  5%|████                                                                               | 4/83 [00:00<00:02, 32.26it/s]"
     ]
    },
    {
     "name": "stdout",
     "output_type": "stream",
     "text": [
      "==============================loss train at epoch 5==============================\n",
      "10.73395693991795\n"
     ]
    },
    {
     "name": "stderr",
     "output_type": "stream",
     "text": [
      "100%|██████████████████████████████████████████████████████████████████████████████████| 83/83 [00:02<00:00, 30.74it/s]\n",
      "100%|██████████████████████████████████████████████████████████████████████████████| 1573/1573 [01:41<00:00, 15.47it/s]\n",
      "  5%|████                                                                               | 4/83 [00:00<00:02, 31.50it/s]"
     ]
    },
    {
     "name": "stdout",
     "output_type": "stream",
     "text": [
      "==============================loss train at epoch 6==============================\n",
      "10.243407823140654\n"
     ]
    },
    {
     "name": "stderr",
     "output_type": "stream",
     "text": [
      "100%|██████████████████████████████████████████████████████████████████████████████████| 83/83 [00:02<00:00, 31.12it/s]\n",
      "100%|██████████████████████████████████████████████████████████████████████████████| 1573/1573 [01:41<00:00, 15.50it/s]\n",
      "  5%|████                                                                               | 4/83 [00:00<00:02, 30.53it/s]"
     ]
    },
    {
     "name": "stdout",
     "output_type": "stream",
     "text": [
      "==============================loss train at epoch 7==============================\n",
      "9.611269178924028\n"
     ]
    },
    {
     "name": "stderr",
     "output_type": "stream",
     "text": [
      "100%|██████████████████████████████████████████████████████████████████████████████████| 83/83 [00:02<00:00, 31.84it/s]\n",
      "100%|██████████████████████████████████████████████████████████████████████████████| 1573/1573 [01:41<00:00, 15.57it/s]\n",
      "  5%|████                                                                               | 4/83 [00:00<00:02, 31.50it/s]"
     ]
    },
    {
     "name": "stdout",
     "output_type": "stream",
     "text": [
      "==============================loss train at epoch 8==============================\n",
      "9.04074210144499\n"
     ]
    },
    {
     "name": "stderr",
     "output_type": "stream",
     "text": [
      "100%|██████████████████████████████████████████████████████████████████████████████████| 83/83 [00:02<00:00, 31.23it/s]\n",
      "100%|██████████████████████████████████████████████████████████████████████████████| 1573/1573 [01:41<00:00, 15.56it/s]\n",
      "  4%|███                                                                                | 3/83 [00:00<00:02, 29.41it/s]"
     ]
    },
    {
     "name": "stdout",
     "output_type": "stream",
     "text": [
      "==============================loss train at epoch 9==============================\n",
      "8.498850511807358\n"
     ]
    },
    {
     "name": "stderr",
     "output_type": "stream",
     "text": [
      "100%|██████████████████████████████████████████████████████████████████████████████████| 83/83 [00:02<00:00, 31.56it/s]\n",
      "  0%|                                                                                 | 2/1573 [00:00<01:55, 13.61it/s]"
     ]
    },
    {
     "name": "stdout",
     "output_type": "stream",
     "text": [
      "==============================(from CounterMod)loss test at epoch 9==============================\n",
      "12.875809146697263\n",
      "ram gpu 19771392\n"
     ]
    },
    {
     "name": "stderr",
     "output_type": "stream",
     "text": [
      "100%|██████████████████████████████████████████████████████████████████████████████| 1573/1573 [01:40<00:00, 15.69it/s]\n",
      "  5%|████                                                                               | 4/83 [00:00<00:02, 31.50it/s]"
     ]
    },
    {
     "name": "stdout",
     "output_type": "stream",
     "text": [
      "==============================loss train at epoch 10==============================\n",
      "8.059004324375257\n"
     ]
    },
    {
     "name": "stderr",
     "output_type": "stream",
     "text": [
      "100%|██████████████████████████████████████████████████████████████████████████████████| 83/83 [00:02<00:00, 31.45it/s]\n",
      "100%|██████████████████████████████████████████████████████████████████████████████| 1573/1573 [01:39<00:00, 15.75it/s]\n",
      "  5%|████                                                                               | 4/83 [00:00<00:02, 32.26it/s]"
     ]
    },
    {
     "name": "stdout",
     "output_type": "stream",
     "text": [
      "==============================loss train at epoch 11==============================\n",
      "7.772081070164549\n"
     ]
    },
    {
     "name": "stderr",
     "output_type": "stream",
     "text": [
      "100%|██████████████████████████████████████████████████████████████████████████████████| 83/83 [00:02<00:00, 31.00it/s]\n",
      "100%|██████████████████████████████████████████████████████████████████████████████| 1573/1573 [01:40<00:00, 15.63it/s]\n",
      "  5%|████                                                                               | 4/83 [00:00<00:02, 32.00it/s]"
     ]
    },
    {
     "name": "stdout",
     "output_type": "stream",
     "text": [
      "==============================loss train at epoch 12==============================\n",
      "7.5087345040534155\n"
     ]
    },
    {
     "name": "stderr",
     "output_type": "stream",
     "text": [
      "100%|██████████████████████████████████████████████████████████████████████████████████| 83/83 [00:02<00:00, 31.24it/s]\n",
      "100%|██████████████████████████████████████████████████████████████████████████████| 1573/1573 [01:40<00:00, 15.64it/s]\n",
      "  5%|████                                                                               | 4/83 [00:00<00:02, 32.79it/s]"
     ]
    },
    {
     "name": "stdout",
     "output_type": "stream",
     "text": [
      "==============================loss train at epoch 13==============================\n",
      "7.468569306908939\n"
     ]
    },
    {
     "name": "stderr",
     "output_type": "stream",
     "text": [
      "100%|██████████████████████████████████████████████████████████████████████████████████| 83/83 [00:02<00:00, 29.90it/s]\n",
      "100%|██████████████████████████████████████████████████████████████████████████████| 1573/1573 [01:41<00:00, 15.56it/s]\n",
      "  5%|████                                                                               | 4/83 [00:00<00:02, 32.52it/s]"
     ]
    },
    {
     "name": "stdout",
     "output_type": "stream",
     "text": [
      "==============================loss train at epoch 14==============================\n",
      "7.277393388202519\n"
     ]
    },
    {
     "name": "stderr",
     "output_type": "stream",
     "text": [
      "100%|██████████████████████████████████████████████████████████████████████████████████| 83/83 [00:02<00:00, 31.46it/s]\n",
      "  0%|                                                                                 | 2/1573 [00:00<02:01, 12.90it/s]"
     ]
    },
    {
     "name": "stdout",
     "output_type": "stream",
     "text": [
      "==============================(from CounterMod)loss test at epoch 14==============================\n",
      "9.883344885814621\n",
      "ram gpu 19771392\n"
     ]
    },
    {
     "name": "stderr",
     "output_type": "stream",
     "text": [
      "100%|██████████████████████████████████████████████████████████████████████████████| 1573/1573 [01:42<00:00, 15.30it/s]\n",
      "  4%|███                                                                                | 3/83 [00:00<00:02, 27.78it/s]"
     ]
    },
    {
     "name": "stdout",
     "output_type": "stream",
     "text": [
      "==============================loss train at epoch 15==============================\n",
      "7.163387462430446\n"
     ]
    },
    {
     "name": "stderr",
     "output_type": "stream",
     "text": [
      "100%|██████████████████████████████████████████████████████████████████████████████████| 83/83 [00:02<00:00, 30.83it/s]\n",
      "100%|██████████████████████████████████████████████████████████████████████████████| 1573/1573 [01:41<00:00, 15.54it/s]\n",
      "  5%|████                                                                               | 4/83 [00:00<00:02, 31.25it/s]"
     ]
    },
    {
     "name": "stdout",
     "output_type": "stream",
     "text": [
      "==============================loss train at epoch 16==============================\n",
      "7.164367731407199\n"
     ]
    },
    {
     "name": "stderr",
     "output_type": "stream",
     "text": [
      "100%|██████████████████████████████████████████████████████████████████████████████████| 83/83 [00:02<00:00, 31.01it/s]\n",
      "100%|██████████████████████████████████████████████████████████████████████████████| 1573/1573 [01:41<00:00, 15.57it/s]\n",
      "  5%|████                                                                               | 4/83 [00:00<00:02, 31.50it/s]"
     ]
    },
    {
     "name": "stdout",
     "output_type": "stream",
     "text": [
      "==============================loss train at epoch 17==============================\n",
      "6.955782974289241\n"
     ]
    },
    {
     "name": "stderr",
     "output_type": "stream",
     "text": [
      "100%|██████████████████████████████████████████████████████████████████████████████████| 83/83 [00:02<00:00, 30.36it/s]\n",
      " 11%|████████▉                                                                      | 177/1573 [00:11<01:30, 15.46it/s]\n"
     ]
    },
    {
     "ename": "KeyboardInterrupt",
     "evalue": "",
     "output_type": "error",
     "traceback": [
      "\u001b[1;31m---------------------------------------------------------------------------\u001b[0m",
      "\u001b[1;31mKeyboardInterrupt\u001b[0m                         Traceback (most recent call last)",
      "\u001b[1;32m<ipython-input-5-01d1e61e55d0>\u001b[0m in \u001b[0;36m<module>\u001b[1;34m\u001b[0m\n\u001b[0;32m     36\u001b[0m \u001b[1;33m\u001b[0m\u001b[0m\n\u001b[0;32m     37\u001b[0m             \u001b[0mloss\u001b[0m \u001b[1;33m=\u001b[0m \u001b[0mloss_func\u001b[0m\u001b[1;33m(\u001b[0m\u001b[0my_hat\u001b[0m\u001b[1;33m,\u001b[0m\u001b[0mlabel\u001b[0m\u001b[1;33m)\u001b[0m\u001b[1;33m\u001b[0m\u001b[1;33m\u001b[0m\u001b[0m\n\u001b[1;32m---> 38\u001b[1;33m             \u001b[0mloss_train_batch\u001b[0m\u001b[1;33m+=\u001b[0m\u001b[0mfloat\u001b[0m\u001b[1;33m(\u001b[0m\u001b[0mloss\u001b[0m\u001b[1;33m)\u001b[0m\u001b[1;33m\u001b[0m\u001b[1;33m\u001b[0m\u001b[0m\n\u001b[0m\u001b[0;32m     39\u001b[0m             \u001b[0mc\u001b[0m\u001b[1;33m+=\u001b[0m\u001b[1;36m1\u001b[0m\u001b[1;33m\u001b[0m\u001b[1;33m\u001b[0m\u001b[0m\n\u001b[0;32m     40\u001b[0m             \u001b[0mloss\u001b[0m\u001b[1;33m.\u001b[0m\u001b[0mbackward\u001b[0m\u001b[1;33m(\u001b[0m\u001b[1;33m)\u001b[0m\u001b[1;33m\u001b[0m\u001b[1;33m\u001b[0m\u001b[0m\n",
      "\u001b[1;31mKeyboardInterrupt\u001b[0m: "
     ]
    }
   ],
   "source": [
    "best_loss = None\n",
    "\n",
    "pl_1 = Limit(1)\n",
    "pl_1_2 = Limit(1)\n",
    "\n",
    "do_train = True\n",
    "is_limit = False\n",
    "if(do_train):\n",
    "    epoch = -1\n",
    "    while True:\n",
    "        epoch+=1\n",
    "#     for epoch in range(100):\n",
    "\n",
    "        pl = Limit(3)\n",
    "        loss_train_batch = 0\n",
    "        c=0\n",
    "        for train_data,label in tqdm(data_loader):\n",
    "\n",
    "            if(is_limit):\n",
    "                if(CounterBreak.set_count(2).count()):\n",
    "                    pl_1('limit train_data')\n",
    "                    break\n",
    "   \n",
    "            train_data = move_to_gpu(train_data)\n",
    "            label = move_to_gpu(label)\n",
    "\n",
    "\n",
    "            optimizer.zero_grad()\n",
    "            optimizer_without_l2.zero_grad()\n",
    "            bz = train_data.shape[0]\n",
    "            model.reset_hidden(bz)\n",
    "\n",
    "\n",
    "\n",
    "            y_hat = (model(train_data))\n",
    "          \n",
    "            loss = loss_func(y_hat,label)\n",
    "            loss_train_batch+=float(loss)\n",
    "            c+=1\n",
    "            loss.backward()\n",
    "            optimizer.step()\n",
    "            optimizer_without_l2.step()\n",
    "\n",
    "    #         del_gpu(train_data,label)\n",
    "\n",
    "        log(loss_train_batch/c,title=f\"loss train at epoch {epoch}\")\n",
    "        \n",
    "        \n",
    "\n",
    "        '''\n",
    "            find loss test\n",
    "        '''\n",
    "        loss_test=0\n",
    "        c = 0\n",
    "        with torch.no_grad():\n",
    "            for test_data,y_test in tqdm(data_loader_test):\n",
    "                \n",
    "                \n",
    "                if(is_limit):\n",
    "                    if(CounterBreak.set_count(2).count()):\n",
    "                        pl_1_2('limit test_data')\n",
    "                        break\n",
    "\n",
    "                test_data = move_to_gpu(test_data)    \n",
    "                y_test = move_to_gpu(y_test)\n",
    "\n",
    "                bz = test_data.shape[0]\n",
    "                \n",
    "                model.reset_hidden(bz)\n",
    "                y_hat_test = model(test_data)\n",
    "\n",
    "                batch_loss_test = loss_func(y_hat_test,y_test)\n",
    "\n",
    "                loss_test+= float(batch_loss_test)\n",
    "                c+=1\n",
    "\n",
    "    #             del_gpu(test_data,y_test)\n",
    "    \n",
    "    \n",
    "        loss_test = loss_test/c\n",
    "        \n",
    "        rp = r\"C:\\Users\\rakna\\Desktop\\AIT_working\\AIT_CP_Project\\this_folder_git_ignore\\w\"\n",
    "        if(CounterMod.init().set_mod(5).count()):\n",
    "            log(loss_test,title=f\"(from CounterMod)loss test at epoch {epoch}\")\n",
    "            log('ram gpu',torch.cuda.memory_allocated())\n",
    "            torch.save(model.state_dict(), os.path.join(rp,save_folder,f'./autosave_model_{epoch:03}_{\"{:.2f}\".format(loss_test).replace(\".\",\"dot\") }' ) )\n",
    "            \n",
    "        if(best_loss is None or loss_test<best_loss):\n",
    "            best_loss=loss_test\n",
    "            \n",
    "            torch.save(model.state_dict(), os.path.join(rp,save_folder,f'./model_{epoch:03}_{\"{:.2f}\".format(loss_test).replace(\".\",\"dot\") }' ) )\n",
    "            log(loss_test,title=f\"loss test at epoch {epoch}\")\n",
    "            log(title='save w',n=60)\n",
    "        \n",
    "\n",
    "        \n",
    "        \n",
    "    \n",
    "\n",
    "    "
   ]
  }
 ],
 "metadata": {
  "kernelspec": {
   "display_name": "Python 3",
   "language": "python",
   "name": "python3"
  },
  "language_info": {
   "codemirror_mode": {
    "name": "ipython",
    "version": 3
   },
   "file_extension": ".py",
   "mimetype": "text/x-python",
   "name": "python",
   "nbconvert_exporter": "python",
   "pygments_lexer": "ipython3",
   "version": "3.8.5"
  }
 },
 "nbformat": 4,
 "nbformat_minor": 4
}
