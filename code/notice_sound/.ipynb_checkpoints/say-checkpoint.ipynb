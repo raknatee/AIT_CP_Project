{
 "cells": [
  {
   "cell_type": "code",
   "execution_count": 7,
   "metadata": {},
   "outputs": [],
   "source": [
    "\n",
    "import os\n",
    "\n",
    "import winsound  \n",
    "\n",
    "n4 = 4000\n",
    "n2 = 2000\n",
    "n1 = 1000\n",
    "n1_2 = 500\n",
    "n1_4 = 250\n",
    "\n",
    "freq = {\n",
    "    'A4':440,\n",
    "    'B4':493,\n",
    "    'C5':523,\n",
    "    'C#5':554,\n",
    "    'D5':587,\n",
    "    'E5':659,\n",
    "    'F#5':739,\n",
    "    'G5':783,\n",
    "    'G#5':830,\n",
    "    \n",
    "    \n",
    "}\n",
    "music_sheet = [\n",
    "    (freq['G5'],n1),\n",
    "    (freq['F#5'],n1_2),\n",
    "    (freq['G5'],n1_2),\n",
    "]\n",
    "music_sheet2 = [\n",
    "    (freq['A4'],n1),\n",
    "    (freq['A4'],n1),\n",
    "    (freq['E5'],n1),\n",
    "    (freq['E5'],n1),\n",
    "    (freq['F#5'],n1),\n",
    "    (freq['F#5'],n1),\n",
    "    (freq['E5'],n2),\n",
    "\n",
    "    (freq['D5'],n1),\n",
    "    (freq['D5'],n1),\n",
    "    (freq['C#5'],n1),\n",
    "    (freq['C#5'],n1),\n",
    "    (freq['B4'],n1),\n",
    "    (freq['B4'],n1),\n",
    "    (freq['A4'],n2),\n",
    "    \n",
    "    \n",
    "    \n",
    "]"
   ]
  },
  {
   "cell_type": "code",
   "execution_count": 9,
   "metadata": {},
   "outputs": [
    {
     "data": {
      "text/html": [
       "\n",
       "                <audio  controls=\"controls\" autoplay=\"autoplay\">\n",
       "                    <source src=\"data:audio/wav;base64,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\" type=\"audio/wav\" />\n",
       "                    Your browser does not support the audio element.\n",
       "                </audio>\n",
       "              "
      ],
      "text/plain": [
       "<IPython.lib.display.Audio object>"
      ]
     },
     "execution_count": 9,
     "metadata": {},
     "output_type": "execute_result"
    }
   ],
   "source": [
    "sound_path = r'C:\\Users\\rakna\\Desktop\\AIT_working\\AIT_CP_Project\\code\\notice_sound'\n",
    "\n",
    "import IPython.display as ipd\n",
    "ipd.Audio(filename=os.path.join(sound_path,'help.wav'),autoplay=True)\n",
    "ipd.Audio(filename=os.path.join(sound_path,'got_it.wav'),autoplay=True)\n",
    "ipd.Audio(filename=os.path.join(sound_path,'trying_best.wav'),autoplay=True)\n"
   ]
  },
  {
   "cell_type": "code",
   "execution_count": 11,
   "metadata": {},
   "outputs": [],
   "source": [
    "from playsound import playsound\n",
    "\n",
    "playsound(os.path.join(sound_path,'help.mp3'))\n",
    "playsound(os.path.join(sound_path,'got_it.mp3'))\n",
    "playsound(os.path.join(sound_path,'trying_best.mp3'))"
   ]
  }
 ],
 "metadata": {
  "kernelspec": {
   "display_name": "Python 3",
   "language": "python",
   "name": "python3"
  },
  "language_info": {
   "codemirror_mode": {
    "name": "ipython",
    "version": 3
   },
   "file_extension": ".py",
   "mimetype": "text/x-python",
   "name": "python",
   "nbconvert_exporter": "python",
   "pygments_lexer": "ipython3",
   "version": "3.8.5"
  }
 },
 "nbformat": 4,
 "nbformat_minor": 4
}
