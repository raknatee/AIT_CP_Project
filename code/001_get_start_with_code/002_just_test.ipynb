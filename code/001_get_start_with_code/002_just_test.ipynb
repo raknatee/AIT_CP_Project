{
 "cells": [
  {
   "cell_type": "code",
   "execution_count": 1,
   "metadata": {},
   "outputs": [
    {
     "name": "stdout",
     "output_type": "stream",
     "text": [
      "0\n"
     ]
    }
   ],
   "source": [
    "\n",
    "from my_modules.log import log,Limit,CounterBreak,CounterMod\n",
    "\n",
    "\n",
    "\n",
    "from my_modules.load_data import MyDataset\n",
    "import my_modules.model.lstm as model_modules\n",
    "from my_modules.model.lstm import LSTM_0,move_to_gpu,del_gpu,LSTM_1,LSTM_2,LSTM_3,LSTM_4\n",
    "from my_modules.model.lstmcnn import LSTMCNN_1,LSTMCNN_2,LSTMCNN_3,LSTMCNN_4,LSTMCNN_5\n",
    "from my_modules.model.lstmcnn_part2 import LSTMCNN_6\n",
    "from my_modules.model.lstmcnn_part3 import LSTMCNN_10,LSTMCNN_10_2\n",
    "from my_modules.model.lstm2cnn_part1 import LSTM2CNN_1,LSTM2CNN_2,LSTM2CNN_3,LSTM2CNN_4\n",
    "from my_modules.model.lstm2cnn_final import LSTM2CNN,LSTM2CNN_2\n",
    "\n",
    "\n",
    "\n",
    "import torch\n",
    "from torch import nn\n",
    "from torch.utils.data import DataLoader\n",
    "\n",
    "import os\n",
    "os.environ['CUDA_LAUNCH_BLOCKING'] = '1'\n",
    "\n",
    "from tqdm import tqdm\n",
    "\n",
    "print(model_modules.get_used_memory())"
   ]
  },
  {
   "cell_type": "code",
   "execution_count": 2,
   "metadata": {},
   "outputs": [],
   "source": [
    "train_index_movie = [i for i in range(38)]\n",
    "test_index_movie = [i for i in range(len(train_index_movie),40)]\n",
    "\n",
    "data_path = r'C:\\Users\\rakna\\Desktop\\AIT_working\\AIT_CP_Project\\this_folder_git_ignore\\ori_datasets\\s01.dat'\n",
    "# window_size = 145*5\n",
    "window_size = 145*10\n",
    "\n",
    "step_window = 145\n",
    "\n",
    "data_train = MyDataset(data_path,window_size,step_window,train_index_movie,do_noise=True)\n",
    "data_test = MyDataset(data_path,window_size,step_window,test_index_movie)"
   ]
  },
  {
   "cell_type": "code",
   "execution_count": 3,
   "metadata": {},
   "outputs": [
    {
     "name": "stdout",
     "output_type": "stream",
     "text": [
      "GeForce GTX 1070 Ti\n"
     ]
    }
   ],
   "source": [
    "model_modules.do_gpu = torch.cuda.is_available()\n",
    "# model_modules.do_gpu = False\n",
    "\n",
    "if(model_modules.do_gpu):\n",
    "    print(torch.cuda.get_device_name())\n",
    "else:\n",
    "    print('using CPU')\n",
    "\n",
    "data_loader = DataLoader(data_train,batch_size = 16,shuffle=True,pin_memory=model_modules.do_gpu)\n",
    "data_loader_test  = DataLoader(data_test,batch_size = 16,shuffle=True,pin_memory=model_modules.do_gpu)"
   ]
  },
  {
   "cell_type": "code",
   "execution_count": null,
   "metadata": {},
   "outputs": [],
   "source": []
  },
  {
   "cell_type": "code",
   "execution_count": 4,
   "metadata": {},
   "outputs": [
    {
     "name": "stderr",
     "output_type": "stream",
     "text": [
      "100%|████████████████████████████████████████████████████████████████████████████████████| 6/6 [00:03<00:00,  1.65it/s]"
     ]
    },
    {
     "name": "stdout",
     "output_type": "stream",
     "text": [
      "tensor([2.5563, 7.0692], device='cuda:0') vs tensor([3.2400, 6.1800], device='cuda:0')\n",
      "tensor([5.2157, 7.1879], device='cuda:0') vs tensor([3.2400, 6.1800], device='cuda:0')\n",
      "tensor([5.0250, 6.6772], device='cuda:0') vs tensor([5.1000, 7.1200], device='cuda:0')\n",
      "tensor([2.2478, 6.8276], device='cuda:0') vs tensor([3.2400, 6.1800], device='cuda:0')\n",
      "tensor([4.7547, 7.3373], device='cuda:0') vs tensor([5.1000, 7.1200], device='cuda:0')\n",
      "tensor([2.5932, 6.9329], device='cuda:0') vs tensor([3.2400, 6.1800], device='cuda:0')\n",
      "tensor([5.0104, 6.2826], device='cuda:0') vs tensor([5.1000, 7.1200], device='cuda:0')\n",
      "tensor([3.1261, 7.0596], device='cuda:0') vs tensor([3.2400, 6.1800], device='cuda:0')\n",
      "tensor([5.3795, 7.6607], device='cuda:0') vs tensor([5.1000, 7.1200], device='cuda:0')\n",
      "tensor([5.2469, 6.8884], device='cuda:0') vs tensor([5.1000, 7.1200], device='cuda:0')\n",
      "tensor([4.9984, 6.8978], device='cuda:0') vs tensor([5.1000, 7.1200], device='cuda:0')\n",
      "tensor([4.9786, 5.4485], device='cuda:0') vs tensor([3.2400, 6.1800], device='cuda:0')\n",
      "mse : 0.9611335396766663\n",
      "acc v 0.5869565217391305\n",
      "acc a 1.0\n",
      "max diff 0.6933159828186035\n",
      "mean diff -2.1314501736475076\n"
     ]
    },
    {
     "name": "stderr",
     "output_type": "stream",
     "text": [
      "\n"
     ]
    }
   ],
   "source": [
    "\n",
    "input_size = 40\n",
    "torch.manual_seed(3333)\n",
    "loss_func = nn.MSELoss()\n",
    "\n",
    "model = LSTM2CNN_2(input_size=input_size,number_layers=1,hidden_size=20)\n",
    "model_name = 'w/v029/model_014_1dot12'\n",
    "model = move_to_gpu(model)\n",
    "model.load_state_dict(torch.load(os.path.join(r'C:\\Users\\rakna\\Desktop\\AIT_working\\AIT_CP_Project\\this_folder_git_ignore',model_name) ))\n",
    "error = 0\n",
    "c=0\n",
    "temp = []\n",
    "v_correct = 0\n",
    "a_correct = 0\n",
    "n = 0\n",
    "with torch.no_grad():\n",
    "    for test_data,y_test in tqdm(data_loader_test):\n",
    "        test_data = move_to_gpu(test_data)    \n",
    "        y_test = move_to_gpu(y_test)\n",
    "\n",
    "        bz = test_data.shape[0]\n",
    "        model.reset_hidden(bz)\n",
    "        y_hat_test = model(test_data)\n",
    "    \n",
    "        if(CounterMod.init().set_mod(6).count()):\n",
    "            for i in range(y_hat_test.shape[0]):\n",
    "                \n",
    "                print(y_hat_test[i],'vs',y_test[i])\n",
    "        batch_loss_test = loss_func(y_hat_test,y_test)\n",
    "        for eee in (y_hat_test[:,0]-y_hat_test[:,1]).tolist():\n",
    "            temp.append(eee)\n",
    "        \n",
    "        error+= float(batch_loss_test)\n",
    "        c+=1\n",
    "        \n",
    "        temp1 = y_hat_test > 5\n",
    "        temp2 = y_test >5\n",
    "        v_correct += float((temp1==temp2)[:,0].sum())\n",
    "        a_correct += float((temp1==temp2)[:,1].sum())\n",
    "        n+= y_test.shape[0]\n",
    "        \n",
    "\n",
    "\n",
    "\n",
    "print(\"mse :\",error/c)\n",
    "print(\"acc v\",v_correct/n)\n",
    "print(\"acc a\",a_correct/n)\n",
    "print('max diff',max(temp) )\n",
    "print('mean diff',sum(temp)/len(temp) )"
   ]
  }
 ],
 "metadata": {
  "kernelspec": {
   "display_name": "Python 3",
   "language": "python",
   "name": "python3"
  },
  "language_info": {
   "codemirror_mode": {
    "name": "ipython",
    "version": 3
   },
   "file_extension": ".py",
   "mimetype": "text/x-python",
   "name": "python",
   "nbconvert_exporter": "python",
   "pygments_lexer": "ipython3",
   "version": "3.8.5"
  }
 },
 "nbformat": 4,
 "nbformat_minor": 4
}
