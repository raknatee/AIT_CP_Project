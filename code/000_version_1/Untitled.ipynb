{
 "cells": [
  {
   "cell_type": "code",
   "execution_count": 1,
   "metadata": {},
   "outputs": [],
   "source": [
    "import pickle\n",
    "import os\n",
    "import json"
   ]
  },
  {
   "cell_type": "code",
   "execution_count": 2,
   "metadata": {},
   "outputs": [],
   "source": [
    "des_path = r\"/home/jovyan/work/root/datasets/001_json_version\"\n",
    "root_path = r'C:\\Users\\rakna\\Desktop\\AIT_working\\AIT_CP_Project\\this_folder_git_ignore\\ori_datasets'\n",
    "filenames = os.listdir(root_path)\n",
    "print(filenames)"
   ]
  },
  {
   "cell_type": "code",
   "execution_count": 8,
   "metadata": {},
   "outputs": [
    {
     "name": "stdout",
     "output_type": "stream",
     "text": [
      "-0.004713208652641406\n",
      "4.150986301182527\n",
      "(1, 40, 1)\n",
      "-22.76601110971975\n",
      "41.08645760308045\n"
     ]
    }
   ],
   "source": [
    "def create_filename(i,max_digi=2):\n",
    "    d = len(str(i))\n",
    "    if(d<max_digi):\n",
    "        return '0'*(max_digi-d)+str(i)\n",
    "    \n",
    "\n",
    "\n",
    "for i,filename in enumerate(filenames):\n",
    "    \n",
    "    with open(os.path.join(root_path,filename),\"rb\") as f:\n",
    "\n",
    "     \n",
    "\n",
    "        data = pickle.load(f,encoding='bytes')          \n",
    "        print(data[b'data'][:,0,:].mean())\n",
    "        print(data[b'data'][:,0,:].std())\n",
    "        m = data[b'data'].mean(axis=(0,2)).reshape(1,-1,1)\n",
    "        s = data[b'data'].std(axis=(0,2)).reshape(1,-1,1)\n",
    "        print(m.shape)\n",
    "        data[b'data']  = (data[b'data']-m)/s\n",
    "        print(data[b'data'].min())\n",
    "        print(data[b'data'].max())\n",
    "    break"
   ]
  }
 ],
 "metadata": {
  "kernelspec": {
   "display_name": "Python 3",
   "language": "python",
   "name": "python3"
  },
  "language_info": {
   "codemirror_mode": {
    "name": "ipython",
    "version": 3
   },
   "file_extension": ".py",
   "mimetype": "text/x-python",
   "name": "python",
   "nbconvert_exporter": "python",
   "pygments_lexer": "ipython3",
   "version": "3.8.5"
  }
 },
 "nbformat": 4,
 "nbformat_minor": 4
}
