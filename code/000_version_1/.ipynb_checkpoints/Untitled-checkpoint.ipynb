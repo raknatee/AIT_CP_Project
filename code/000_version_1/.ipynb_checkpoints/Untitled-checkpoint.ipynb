{
 "cells": [
  {
   "cell_type": "code",
   "execution_count": 1,
   "metadata": {},
   "outputs": [],
   "source": [
    "import pickle\n",
    "import os\n",
    "import json"
   ]
  },
  {
   "cell_type": "code",
   "execution_count": 2,
   "metadata": {},
   "outputs": [
    {
     "name": "stdout",
     "output_type": "stream",
     "text": [
      "['s01.dat', 's02.dat', 's03.dat', 's04.dat', 's05.dat', 's06.dat', 's07.dat', 's08.dat', 's09.dat', 's10.dat', 's11.dat', 's12.dat', 's13.dat', 's14.dat', 's15.dat', 's16.dat', 's17.dat', 's18.dat', 's19.dat', 's20.dat', 's21.dat', 's22.dat', 's23.dat', 's24.dat', 's25.dat', 's26.dat', 's27.dat', 's28.dat', 's29.dat', 's30.dat', 's31.dat', 's32.dat']\n"
     ]
    }
   ],
   "source": [
    "des_path = r\"/home/jovyan/work/root/datasets/001_json_version\"\n",
    "root_path = r'C:\\Users\\rakna\\Desktop\\AIT_working\\AIT_CP_Project\\this_folder_git_ignore\\ori_datasets'\n",
    "filenames = os.listdir(root_path)\n",
    "print(filenames)"
   ]
  },
  {
   "cell_type": "code",
   "execution_count": 3,
   "metadata": {},
   "outputs": [
    {
     "name": "stdout",
     "output_type": "stream",
     "text": [
      "-------------------- data (40, 40, 8064) --------------------\n",
      "[10.26017505 12.79544273 10.42619158 ...  6.02219406  7.53913583\n",
      "  9.35224904]\n",
      "--------------------------------------------------\n",
      "-0.004713208652641406\n",
      "4.150986301182527\n",
      "[-4.71320865e-03 -7.73839420e-04  3.74452157e-03 -1.25616641e-02\n",
      "  9.35279333e-04  7.63680721e-03 -5.83670867e-03 -1.07784311e-02\n",
      " -7.80206683e-03 -5.18341546e-03 -3.04235979e-03 -6.73627134e-03\n",
      " -1.35947825e-02 -8.12448251e-03 -4.45128546e-03 -3.84505080e-03\n",
      "  6.88014318e-04  1.08446852e-02  7.32155157e-03  5.50272974e-03\n",
      " -1.33143085e-03  7.90908708e-03  8.40971850e-03  3.21993409e-04\n",
      "  7.98422193e-03  4.80812574e-03  5.70348098e-03  2.19383602e-03\n",
      "  7.84346519e-03  3.63542393e-03  3.98965114e-03 -6.97595348e-04\n",
      " -3.76675637e+01  5.27362230e+01  3.30453481e+00  1.43109235e+01\n",
      "  6.17300678e+03  2.28239279e+02  6.09035132e+03 -1.38372173e-03]\n",
      "[4.15098630e+00 4.52009960e+00 4.81583453e+00 4.85568412e+00\n",
      " 3.71604827e+00 3.51274343e+00 3.71108726e+00 5.72514710e+00\n",
      " 3.92016965e+00 2.96133628e+00 5.09689853e+00 4.90048467e+00\n",
      " 4.93330921e+00 4.64287711e+00 4.43346070e+00 3.38297481e+00\n",
      " 4.89766885e+00 4.58019100e+00 4.77992099e+00 5.12460276e+00\n",
      " 4.36302909e+00 3.76549739e+00 4.35249843e+00 3.06994681e+00\n",
      " 3.70577340e+00 4.92294609e+00 3.39122959e+00 2.86187595e+00\n",
      " 5.37856749e+00 4.04340681e+00 5.19811596e+00 4.82779792e+00\n",
      " 1.02792196e+02 1.23904215e+02 1.16388417e+02 2.09110352e+02\n",
      " 2.66374144e+04 2.41398878e+03 1.81951893e+04 7.98000252e-02]\n"
     ]
    }
   ],
   "source": [
    "def create_filename(i,max_digi=2):\n",
    "    d = len(str(i))\n",
    "    if(d<max_digi):\n",
    "        return '0'*(max_digi-d)+str(i)\n",
    "    \n",
    "\n",
    "\n",
    "for i,filename in enumerate(filenames):\n",
    "    \n",
    "    with open(os.path.join(root_path,filename),\"rb\") as f:\n",
    "\n",
    "     \n",
    "\n",
    "        data = pickle.load(f,encoding='bytes')          \n",
    "        print(data[b'data'][:,0,:].mean())\n",
    "        print(data[b'data'][:,0,:].std())\n",
    "        print(data[b'data'].mean(axis=(0,2)))\n",
    "        print(data[b'data'].std(axis=(0,2)))\n",
    "    break"
   ]
  }
 ],
 "metadata": {
  "kernelspec": {
   "display_name": "Python 3",
   "language": "python",
   "name": "python3"
  },
  "language_info": {
   "codemirror_mode": {
    "name": "ipython",
    "version": 3
   },
   "file_extension": ".py",
   "mimetype": "text/x-python",
   "name": "python",
   "nbconvert_exporter": "python",
   "pygments_lexer": "ipython3",
   "version": "3.8.5"
  }
 },
 "nbformat": 4,
 "nbformat_minor": 4
}
